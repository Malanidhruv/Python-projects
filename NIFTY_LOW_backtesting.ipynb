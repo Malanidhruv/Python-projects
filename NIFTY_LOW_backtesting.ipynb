{
  "nbformat": 4,
  "nbformat_minor": 0,
  "metadata": {
    "colab": {
      "provenance": [],
      "authorship_tag": "ABX9TyMqxJKrPyN7QWUBTfdIY0wG",
      "include_colab_link": true
    },
    "kernelspec": {
      "name": "python3",
      "display_name": "Python 3"
    },
    "language_info": {
      "name": "python"
    }
  },
  "cells": [
    {
      "cell_type": "markdown",
      "metadata": {
        "id": "view-in-github",
        "colab_type": "text"
      },
      "source": [
        "<a href=\"https://colab.research.google.com/github/Malanidhruv/Python-projects/blob/main/NIFTY_LOW_backtesting.ipynb\" target=\"_parent\"><img src=\"https://colab.research.google.com/assets/colab-badge.svg\" alt=\"Open In Colab\"/></a>"
      ]
    },
    {
      "cell_type": "code",
      "source": [
        "%pip install pya3\n",
        "%pip install nsetools"
      ],
      "metadata": {
        "colab": {
          "base_uri": "https://localhost:8080/"
        },
        "id": "t3EX0DArUYPx",
        "outputId": "f3ce564d-b0b5-4c23-9754-ec761b68ad5c"
      },
      "execution_count": 8,
      "outputs": [
        {
          "output_type": "stream",
          "name": "stdout",
          "text": [
            "Requirement already satisfied: pya3 in /usr/local/lib/python3.10/dist-packages (1.0.29)\n",
            "Requirement already satisfied: requests in /usr/local/lib/python3.10/dist-packages (from pya3) (2.32.3)\n",
            "Requirement already satisfied: pandas in /usr/local/lib/python3.10/dist-packages (from pya3) (2.2.2)\n",
            "Requirement already satisfied: websocket-client in /usr/local/lib/python3.10/dist-packages (from pya3) (1.8.0)\n",
            "Requirement already satisfied: rel in /usr/local/lib/python3.10/dist-packages (from pya3) (0.4.9.19)\n",
            "Requirement already satisfied: numpy>=1.22.4 in /usr/local/lib/python3.10/dist-packages (from pandas->pya3) (1.26.4)\n",
            "Requirement already satisfied: python-dateutil>=2.8.2 in /usr/local/lib/python3.10/dist-packages (from pandas->pya3) (2.8.2)\n",
            "Requirement already satisfied: pytz>=2020.1 in /usr/local/lib/python3.10/dist-packages (from pandas->pya3) (2024.2)\n",
            "Requirement already satisfied: tzdata>=2022.7 in /usr/local/lib/python3.10/dist-packages (from pandas->pya3) (2024.2)\n",
            "Requirement already satisfied: charset-normalizer<4,>=2 in /usr/local/lib/python3.10/dist-packages (from requests->pya3) (3.4.0)\n",
            "Requirement already satisfied: idna<4,>=2.5 in /usr/local/lib/python3.10/dist-packages (from requests->pya3) (3.10)\n",
            "Requirement already satisfied: urllib3<3,>=1.21.1 in /usr/local/lib/python3.10/dist-packages (from requests->pya3) (2.2.3)\n",
            "Requirement already satisfied: certifi>=2017.4.17 in /usr/local/lib/python3.10/dist-packages (from requests->pya3) (2024.8.30)\n",
            "Requirement already satisfied: six>=1.5 in /usr/local/lib/python3.10/dist-packages (from python-dateutil>=2.8.2->pandas->pya3) (1.16.0)\n",
            "Requirement already satisfied: nsetools in /usr/local/lib/python3.10/dist-packages (1.0.11)\n",
            "Requirement already satisfied: six in /usr/local/lib/python3.10/dist-packages (from nsetools) (1.16.0)\n",
            "Requirement already satisfied: dateutils in /usr/local/lib/python3.10/dist-packages (from nsetools) (0.6.12)\n",
            "Requirement already satisfied: python-dateutil in /usr/local/lib/python3.10/dist-packages (from dateutils->nsetools) (2.8.2)\n",
            "Requirement already satisfied: pytz in /usr/local/lib/python3.10/dist-packages (from dateutils->nsetools) (2024.2)\n"
          ]
        }
      ]
    },
    {
      "cell_type": "code",
      "execution_count": 14,
      "metadata": {
        "colab": {
          "base_uri": "https://localhost:8080/"
        },
        "id": "1g4AG7anTYmq",
        "outputId": "55f6f898-7afe-40eb-f2f1-6345da19ac43"
      },
      "outputs": [
        {
          "output_type": "stream",
          "name": "stdout",
          "text": [
            "Enter your user ID: 1141826\n",
            "Enter your API key: COuxpq3aPZ5WHZdxivMuRPM9904hNcV9xeJMX3AlhCbvNtktS7c4ZtTlpSm2iMEoDesYl4z7ASCyJ6m87sX7dpU4vM6CVz3rMlAAJkF7t6dzl8h7hpW9OzI1oIHDgTCV\n",
            "Instrument(exchange='NFO', token=35382, symbol='NIFTY', name='NIFTY31OCT24F', expiry='', lot_size=25)\n",
            "              datetime     open     high      low    close    volume\n",
            "0  2024-10-17 00:00:00  25068.7  25074.9  24815.1  24843.8  193005.0\n",
            "Closing Price of the Last Minute: 24843.8\n",
            "Closing Price: 24843.8\n",
            "CE Option Symbol: NIFTY24Oct24C24800\n",
            "PE Option Symbol: NIFTY24Oct24P24850\n",
            "              datetime   open    high     low  close    volume\n",
            "0  2024-10-17 00:00:00  302.0  323.35  147.85  163.3  694965.0\n",
            "[147.85]\n",
            "Highest High Value: 147.85\n",
            "Rounded Highest High Value: 148.0\n",
            "              datetime  open   high    low   close    volume\n",
            "0  2024-10-17 00:00:00  98.8  199.5  86.45  182.45  224760.0\n",
            "[86.45]\n",
            "Highest High Value: 86.45\n",
            "Rounded Highest High Value: 86.0\n",
            "{'stat': 'Ok', 'NOrdNo': '24101800265663'}\n",
            "{'stat': 'Ok', 'NOrdNo': '24101800265665'}\n"
          ]
        }
      ],
      "source": [
        "#NIFTY\n",
        "from pya3 import *\n",
        "\n",
        "\n",
        "def get_user_credentials():\n",
        "    user_id = input(\"Enter your user ID: \")\n",
        "    api_key = input(\"Enter your API key: \")\n",
        "    return user_id, api_key\n",
        "\n",
        "# Example usage:\n",
        "user_id, api_key = get_user_credentials()\n",
        "alice = Aliceblue(user_id=user_id, api_key=api_key)\n",
        "# Now you can use the 'alice' object in the rest of your code.\n",
        "\n",
        "\n",
        "\n",
        "#you will get ok after successfully login in alice blue using the api\n",
        "alice.get_session_id()\n",
        "\n",
        "from datetime import datetime, timedelta\n",
        "from nsetools import Nse\n",
        "import holidays\n",
        "import datetime\n",
        "\n",
        "\n",
        "\n",
        "# Create an instance of Nse\n",
        "nse = Nse()\n",
        "\n",
        "# Get the list of market holidays for the year\n",
        "market_holidays = holidays.India(years=datetime.datetime.now().year)\n",
        "\n",
        "# Add Mahashivratri as a market holiday on 08-03-24\n",
        "market_holidays.append(datetime.date(2024, 3, 8))\n",
        "\n",
        "# Get the current date\n",
        "current_date = datetime.datetime.now()\n",
        "\n",
        "# Find the previous trading day\n",
        "previous_trading_day = current_date - timedelta(days=1)\n",
        "while previous_trading_day.weekday() >= 5 or previous_trading_day in market_holidays:\n",
        "    previous_trading_day -= timedelta(days=1)\n",
        "\n",
        "\n",
        "yesterday_date = previous_trading_day.date()\n",
        "\n",
        "instrument = alice.get_instrument_by_symbol('NFO', 'NIFTY31OCT24F')\n",
        "print(instrument)\n",
        "\n",
        "from_datetime = datetime.datetime.combine(yesterday_date, datetime.time.min)  # From yesterday\n",
        "to_datetime = datetime.datetime.combine(yesterday_date, datetime.time.max)  # To yesterday\n",
        "interval = \"D\"  # [\"1\", \"D\"]\n",
        "historical_data = alice.get_historical(instrument, from_datetime, to_datetime, interval)\n",
        "print(historical_data)\n",
        "\n",
        "last_close_price = historical_data['close'].iloc[-1]\n",
        "print(\"Closing Price of the Last Minute:\", last_close_price)\n",
        "\n",
        "# Store the closing price for later use\n",
        "closeprice = last_close_price\n",
        "\n",
        "# Now you can use 'stored_close_price' in your subsequent code\n",
        "print(\"Closing Price:\", closeprice)\n",
        "\n",
        "# Function to check if a given date is a holiday\n",
        "def is_holiday(date):\n",
        "    india_holidays = holidays.CountryHoliday('IND', prov='MH')\n",
        "    return date in india_holidays\n",
        "\n",
        "# Find the next Thursday from the current date\n",
        "def next_thursday():\n",
        "    today = datetime.date.today()\n",
        "    days_ahead = 3 - today.weekday()  # 3 corresponds to Thursday\n",
        "    if days_ahead <= 2:  # Target day has already happened this week\n",
        "        days_ahead += 7\n",
        "    return today + datetime.timedelta(days=days_ahead)\n",
        "\n",
        "# Assuming you have the closing price stored in 'last_close_price'\n",
        "closing_price = closeprice  # Replace this with the actual closing price from your data\n",
        "\n",
        "# Calculate the nearest strike prices\n",
        "ce_strike_price = int(closing_price / 50) * 50\n",
        "pe_strike_price = ce_strike_price + 50\n",
        "\n",
        "# Get the next Thursday for expiry date\n",
        "expiry_date = next_thursday()\n",
        "\n",
        "# Construct option symbols with expiry date and strike prices\n",
        "symbol_ce = f'NIFTY{expiry_date.strftime(\"%d%b%y\")}C{ce_strike_price}'\n",
        "symbol_pe = f'NIFTY{expiry_date.strftime(\"%d%b%y\")}P{pe_strike_price}'\n",
        "\n",
        "print(\"CE Option Symbol:\", symbol_ce)\n",
        "print(\"PE Option Symbol:\", symbol_pe)\n",
        "\n",
        "\n",
        "\n",
        "# Define the instrument symbol_pe\n",
        "instrument1 = alice.get_instrument_by_symbol('NFO', symbol_ce)\n",
        "\n",
        "# Get historical data\n",
        "historical_data = alice.get_historical(instrument1, from_datetime, to_datetime, interval)\n",
        "print(historical_data)\n",
        "\n",
        "# Assuming 'data' is a DataFrame\n",
        "high_values = historical_data['low'].tolist()\n",
        "print(high_values)\n",
        "\n",
        "highest_high_ce = historical_data['low'].max()\n",
        "print(\"Highest High Value:\", highest_high_ce)\n",
        "\n",
        "highest_high_ce = round(highest_high_ce)\n",
        "highest_high_ce = float(highest_high_ce)\n",
        "print(\"Rounded Highest High Value:\", highest_high_ce)\n",
        "\n",
        "\n",
        "# Define the instrument symbol_pe\n",
        "instrument2 = alice.get_instrument_by_symbol('NFO', symbol_pe)\n",
        "\n",
        "\n",
        "# Get historical data\n",
        "historical_data = alice.get_historical(instrument2, from_datetime, to_datetime, interval)\n",
        "print(historical_data)\n",
        "\n",
        "# Assuming 'data' is a DataFrame\n",
        "high_values = historical_data['low'].tolist()\n",
        "print(high_values)\n",
        "\n",
        "highest_high_pe = historical_data['low'].max()\n",
        "print(\"Highest High Value:\", highest_high_pe)\n",
        "\n",
        "highest_high_pe = round(highest_high_pe)\n",
        "highest_high_pe = float(highest_high_pe)\n",
        "print(\"Rounded Highest High Value:\", highest_high_pe)\n",
        "\n",
        "\n",
        "#Placing order for ce\n",
        "# Define a variable name as a string\n",
        "CE_high = \"highest_high_ce\"\n",
        "\n",
        "# Retrieve the variable value using globals()\n",
        "price_value = globals()[CE_high]\n",
        "\n",
        "print(\n",
        "   alice.place_order(transaction_type = TransactionType.Buy,\n",
        "                     instrument = alice.get_instrument_by_symbol('NFO', symbol_ce),\n",
        "                     quantity = 25,\n",
        "                     order_type = OrderType.StopLossLimit,\n",
        "                     product_type = ProductType.BracketOrder,\n",
        "                     price = price_value,  # Pass the retrieved value\n",
        "                     trigger_price = price_value,\n",
        "                     stop_loss =  100.0,\n",
        "                     square_off = 10.0,\n",
        "                     trailing_sl = 0.0,\n",
        "                     is_amo = True,\n",
        "                     order_tag='order1')\n",
        ")\n",
        "\n",
        "\n",
        "\n",
        "#placing order for pe\n",
        "# Define a variable name as a string\n",
        "PE_high = \"highest_high_pe\"\n",
        "\n",
        "# Retrieve the variable value using globals()\n",
        "price_value = globals()[PE_high]\n",
        "\n",
        "print(\n",
        "   alice.place_order(transaction_type = TransactionType.Buy,\n",
        "                     instrument = alice.get_instrument_by_symbol('NFO', symbol_pe),\n",
        "                     quantity = 25,\n",
        "                     order_type = OrderType.StopLossLimit,\n",
        "                     product_type = ProductType.BracketOrder,\n",
        "                     price = price_value,  # Pass the retrieved value\n",
        "                     trigger_price = price_value,\n",
        "                     stop_loss =  100.0,\n",
        "                     square_off = 10.0,\n",
        "                     trailing_sl = 0.0,\n",
        "                     is_amo = True,\n",
        "                     order_tag='order1')\n",
        ")\n"
      ]
    },
    {
      "cell_type": "code",
      "source": [
        "from_datetime = datetime.datetime.combine(current_date, time(9, 15))\n",
        "to_datetime = datetime.datetime.combine(current_date, time(15, 30))\n",
        "interval = \"1\"  # [\"1\", \"D\"]\n",
        "\n",
        "historical_data = alice.get_historical(instrument1, from_datetime, to_datetime, interval)\n",
        "print(historical_data)\n"
      ],
      "metadata": {
        "colab": {
          "base_uri": "https://localhost:8080/"
        },
        "id": "cYBAmlWSYpOp",
        "outputId": "58ed3988-ec2d-4f79-b5ae-878fe37b3e83"
      },
      "execution_count": 24,
      "outputs": [
        {
          "output_type": "stream",
          "name": "stdout",
          "text": [
            "                datetime    open    high     low   close    volume\n",
            "0    2024-10-18 09:15:59  115.00  139.60  104.20  105.50  620925.0\n",
            "1    2024-10-18 09:16:59  104.35  104.75   99.05  101.05  541275.0\n",
            "2    2024-10-18 09:17:59  101.50  102.85   98.65   99.65  387075.0\n",
            "3    2024-10-18 09:18:59  100.00  100.00   93.00   96.40  448425.0\n",
            "4    2024-10-18 09:19:59   96.05   99.10   94.95   97.35  353225.0\n",
            "..                   ...     ...     ...     ...     ...       ...\n",
            "370  2024-10-18 15:25:59  196.10  198.35  196.05  197.85   99600.0\n",
            "371  2024-10-18 15:26:59  198.65  199.90  196.40  196.75   62725.0\n",
            "372  2024-10-18 15:27:59  196.95  199.85  196.00  199.70  113250.0\n",
            "373  2024-10-18 15:28:59  199.55  200.00  198.00  198.90   91100.0\n",
            "374  2024-10-18 15:29:59  199.00  199.60  195.60  197.95  156675.0\n",
            "\n",
            "[375 rows x 6 columns]\n"
          ]
        }
      ]
    },
    {
      "cell_type": "code",
      "source": [
        "print(highest_high_ce)\n",
        "print(highest_high_pe)"
      ],
      "metadata": {
        "colab": {
          "base_uri": "https://localhost:8080/"
        },
        "id": "Gb4ttX_4cNEZ",
        "outputId": "2abf0bb9-26e4-4dc8-8a71-120a937e323c"
      },
      "execution_count": 22,
      "outputs": [
        {
          "output_type": "stream",
          "name": "stdout",
          "text": [
            "148.0\n",
            "86.0\n"
          ]
        }
      ]
    },
    {
      "cell_type": "code",
      "source": [
        "high_ce = highest_high_ce"
      ],
      "metadata": {
        "id": "l_AAsSGVlwMU"
      },
      "execution_count": 23,
      "outputs": []
    },
    {
      "cell_type": "code",
      "source": [
        "import pandas as pd\n",
        "\n",
        "def backtest(historical_data, high_ce, target_points=50, stop_loss_points=10):\n",
        "    # Set the target and stop-loss levels\n",
        "    target_price = high_ce + target_points\n",
        "    stop_loss_price = high_ce - stop_loss_points\n",
        "\n",
        "    # Initialize variables to track trade status\n",
        "    trade_open = False\n",
        "    entry_time = None\n",
        "    exit_time = None\n",
        "    result = None  # 'Win' or 'Loss'\n",
        "\n",
        "    # Iterate through the historical data\n",
        "    for index, row in historical_data.iterrows():\n",
        "        timestamp = row['datetime']\n",
        "        high = row['high']\n",
        "        low = row['low']\n",
        "\n",
        "        if not trade_open:\n",
        "            # Check if we should enter the trade (if the buying price is touched)\n",
        "            if low <= high_ce <= high:\n",
        "                # Buy order is triggered\n",
        "                trade_open = True\n",
        "                entry_time = timestamp\n",
        "                print(f\"Trade opened at {entry_time} with entry price {high_ce}\")\n",
        "\n",
        "        if trade_open:\n",
        "            # Check if stop-loss or target is hit\n",
        "            if low <= stop_loss_price:\n",
        "                # Stop-loss is hit\n",
        "                exit_time = timestamp\n",
        "                result = 'Loss'\n",
        "                print(f\"Stop-loss hit at {exit_time} with price {stop_loss_price}\")\n",
        "                break\n",
        "            elif high >= target_price:\n",
        "                # Target is hit\n",
        "                exit_time = timestamp\n",
        "                result = 'Win'\n",
        "                print(f\"Target hit at {exit_time} with price {target_price}\")\n",
        "                break\n",
        "\n",
        "    # If trade is still open by the end of the day, log the result\n",
        "    if trade_open and result is None:\n",
        "        result = 'Open'  # Trade is still open\n",
        "\n",
        "    return {\n",
        "        'Entry Time': entry_time,\n",
        "        'Exit Time': exit_time,\n",
        "        'Result': result\n",
        "    }\n",
        "\n",
        "# Ensure 'datetime' column is in datetime format\n",
        "historical_data['datetime'] = pd.to_datetime(historical_data['datetime'])\n",
        "\n",
        "# Set your buying price\n",
        "high_ce\n",
        "\n",
        "# Call the backtesting function\n",
        "backtest_result = backtest(historical_data, high_ce)\n",
        "\n",
        "# Output the result\n",
        "print(backtest_result)\n"
      ],
      "metadata": {
        "colab": {
          "base_uri": "https://localhost:8080/"
        },
        "id": "oXoU2LoBmMD5",
        "outputId": "0e24d740-5c46-4c3e-ad4e-e0234d2b391d"
      },
      "execution_count": 28,
      "outputs": [
        {
          "output_type": "stream",
          "name": "stdout",
          "text": [
            "Trade opened at 2024-10-18 10:33:59 with entry price 148\n",
            "Stop-loss hit at 2024-10-18 10:39:59 with price 138\n",
            "{'Entry Time': Timestamp('2024-10-18 10:33:59'), 'Exit Time': Timestamp('2024-10-18 10:39:59'), 'Result': 'Loss'}\n"
          ]
        }
      ]
    },
    {
      "cell_type": "code",
      "source": [
        ""
      ],
      "metadata": {
        "id": "psvWzHd7mtKM"
      },
      "execution_count": null,
      "outputs": []
    }
  ]
}