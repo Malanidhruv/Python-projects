{
  "nbformat": 4,
  "nbformat_minor": 0,
  "metadata": {
    "colab": {
      "provenance": [],
      "authorship_tag": "ABX9TyOklbLn8+EfhyNRHV9F2cZl",
      "include_colab_link": true
    },
    "kernelspec": {
      "name": "python3",
      "display_name": "Python 3"
    },
    "language_info": {
      "name": "python"
    }
  },
  "cells": [
    {
      "cell_type": "markdown",
      "metadata": {
        "id": "view-in-github",
        "colab_type": "text"
      },
      "source": [
        "<a href=\"https://colab.research.google.com/github/Malanidhruv/quant-projects/blob/main/Stock_Fno_improved_.ipynb\" target=\"_parent\"><img src=\"https://colab.research.google.com/assets/colab-badge.svg\" alt=\"Open In Colab\"/></a>"
      ]
    },
    {
      "cell_type": "code",
      "source": [
        "import pandas as pd\n",
        "import numpy as np\n",
        "import matplotlib.pyplot as plt\n",
        "import seaborn as sns\n",
        "from pya3 import Aliceblue\n",
        "from nsetools import Nse\n",
        "from datetime import datetime, timedelta\n",
        "import holidays\n",
        "\n"
      ],
      "metadata": {
        "id": "wctLhNidLnHO"
      },
      "execution_count": 9,
      "outputs": []
    },
    {
      "cell_type": "code",
      "source": [
        "def get_user_credentials():\n",
        "    user_id = input(\"Enter your user ID: \")\n",
        "    api_key = input(\"Enter your API key: \")\n",
        "    return user_id, api_key\n"
      ],
      "metadata": {
        "id": "2QEgvOkhMCwt"
      },
      "execution_count": 10,
      "outputs": []
    },
    {
      "cell_type": "code",
      "source": [
        "import numpy as np\n",
        "import pandas as pd\n",
        "from scipy.signal import argrelextrema\n",
        "from pya3 import Aliceblue\n",
        "from datetime import datetime\n",
        "from nsetools import Nse\n",
        "\n",
        "def get_user_credentials():\n",
        "    user_id = input(\"Enter your user ID: \")\n",
        "    api_key = input(\"Enter your API key: \")\n",
        "    return user_id, api_key\n",
        "\n",
        "def initialize_alice():\n",
        "    user_id, api_key = get_user_credentials()\n",
        "    alice = Aliceblue(user_id=user_id, api_key=api_key)\n",
        "    alice.get_session_id()\n",
        "    return alice\n",
        "\n",
        "def analyze_stock(alice, token):\n",
        "    instrument = alice.get_instrument_by_token('NSE', token)\n",
        "\n",
        "    from_datetime = datetime(2014, 7, 1)\n",
        "    to_datetime = datetime(2024, 7, 1)\n",
        "    interval = \"D\"\n",
        "\n",
        "    historical_data = alice.get_historical(instrument, from_datetime, to_datetime, interval)\n",
        "    df = pd.DataFrame(historical_data)\n",
        "\n",
        "    # Preprocess data\n",
        "    df['datetime'] = pd.to_datetime(df['datetime'], format='%Y-%m-%d %H:%M:%S')\n",
        "    df.set_index('datetime', inplace=True)\n",
        "    df['pct'] = df['close'].pct_change()\n",
        "    df.columns = df.columns.str.strip()\n",
        "    df = df.drop(columns=['open', 'high', 'low', 'close', 'volume']).dropna()\n",
        "\n",
        "    # Resample data to get monthly percentage change\n",
        "    monthly_pct_change = df['pct'].resample('M').sum()\n",
        "    df = monthly_pct_change.to_frame(name='pct')\n",
        "\n",
        "    # Extract year and month for analysis\n",
        "    df['year'] = df.index.year\n",
        "    df['month'] = df.index.month\n",
        "\n",
        "    # Calculate average monthly returns and standard deviation\n",
        "    monthly_avg = df.groupby('month')['pct'].mean()\n",
        "    monthly_std = df.groupby('month')['pct'].std()\n",
        "\n",
        "    # Combine into a single DataFrame\n",
        "    monthly_stats = pd.DataFrame({\n",
        "        'Average Return': monthly_avg,\n",
        "        'Standard Deviation': monthly_std\n",
        "    }).sort_values(by='Average Return', ascending=False)\n",
        "\n",
        "    return monthly_stats\n",
        "\n",
        "def print_signals(top_stocks):\n",
        "    print(\"\\nStocks with July in Top 3 Months of Highest Average Return:\")\n",
        "    for stock_name, top_months, month_names in top_stocks:\n",
        "        print(f\"\\n{stock_name}:\")\n",
        "        for month, name in zip(top_months.index, month_names):\n",
        "            print(f\"{name}: {top_months.loc[month, 'Average Return']:.2%}\")\n",
        "\n",
        "def get_stock_name(alice, token):\n",
        "    instrument = alice.get_instrument_by_token('NSE', token)\n",
        "    return instrument.name\n",
        "\n",
        "def main():\n",
        "    # Initialize Aliceblue object and get credentials\n",
        "    alice = initialize_alice()\n",
        "\n",
        "    # List of tokens to analyze\n",
        "    tokens = [\n",
        "        11532, 4306, 467, 2885, 1394, 10999, 547, 1232, 1922, 526, 17818, 21808,\n",
        "        17963, 1660, 11536, 15083, 3456, 11483, 13538, 236, 20374, 10604, 25,\n",
        "        14977, 4963, 5258, 1594, 10940, 3351, 3787, 11630, 3432, 317, 7229,\n",
        "        3045, 1348, 16675, 881, 3506, 11723, 2475, 1333, 910, 5900, 694, 2031,\n",
        "        157, 1363, 16669, 3499\n",
        "    ]\n",
        "\n",
        "    top_stocks = []\n",
        "\n",
        "    for token in tokens:\n",
        "        monthly_stats = analyze_stock(alice, token)\n",
        "\n",
        "        # Get top three months\n",
        "        top_months = monthly_stats.head(3)\n",
        "        month_names = top_months.index.map(lambda x: datetime(1900, x, 1).strftime('%B'))\n",
        "\n",
        "        if 7 in top_months.index:  # Check if July (7) is one of the top 3 months\n",
        "            stock_name = get_stock_name(alice, token)\n",
        "            top_stocks.append((stock_name, top_months, month_names))\n",
        "\n",
        "    # Print signals\n",
        "    print_signals(top_stocks)\n",
        "\n",
        "if __name__ == \"__main__\":\n",
        "    main()\n"
      ],
      "metadata": {
        "colab": {
          "base_uri": "https://localhost:8080/"
        },
        "id": "PQbNkrzgMRG9",
        "outputId": "b9880dc0-d911-4622-e914-df9f94c30dc5"
      },
      "execution_count": 11,
      "outputs": [
        {
          "output_type": "stream",
          "name": "stdout",
          "text": [
            "Enter your user ID: 1141826\n",
            "Enter your API key: p45ZLNepIFnmQBWFVTqDU6qhmGsOppf0ZLOuOYyoafbyuMTDOd6pcK5kCn0KL5HclXfC7eG5CapFmbgt4F35PUZ9zk5ZC0F4e1GRlnmAT3O5v82VZJeD9PluY7Bfyqsb\n",
            "NOTE: Today's contract master file will be updated after 08:00 AM. Before 08:00 AM previous day contract file be downloaded.\n",
            "\n",
            "Stocks with July in Top 3 Months of Highest Average Return:\n",
            "\n",
            "ULTRACEMCO-EQ:\n",
            "July: 4.55%\n",
            "October: 2.85%\n",
            "January: 2.58%\n",
            "\n",
            "HDFCLIFE-EQ:\n",
            "April: 5.29%\n",
            "November: 5.13%\n",
            "July: 4.12%\n",
            "\n",
            "RELIANCE-EQ:\n",
            "April: 5.30%\n",
            "July: 4.37%\n",
            "June: 4.31%\n",
            "\n",
            "HINDUNILVR-EQ:\n",
            "May: 3.33%\n",
            "June: 2.93%\n",
            "July: 2.88%\n",
            "\n",
            "BRITANNIA-EQ:\n",
            "May: 4.53%\n",
            "July: 4.20%\n",
            "April: 3.81%\n",
            "\n",
            "SBILIFE-EQ:\n",
            "July: 7.28%\n",
            "April: 5.27%\n",
            "May: 3.40%\n",
            "\n",
            "TCS-EQ:\n",
            "July: 2.76%\n",
            "April: 2.61%\n",
            "December: 2.58%\n",
            "\n",
            "TECHM-EQ:\n",
            "August: 7.28%\n",
            "July: 4.09%\n",
            "November: 3.63%\n",
            "\n",
            "ASIANPAINT-EQ:\n",
            "July: 8.09%\n",
            "December: 4.31%\n",
            "May: 3.54%\n",
            "\n",
            "ICICIBANK-EQ:\n",
            "October: 8.49%\n",
            "July: 4.78%\n",
            "April: 4.60%\n",
            "\n",
            "INDUSINDBK-EQ:\n",
            "July: 6.19%\n",
            "November: 5.23%\n",
            "April: 4.27%\n",
            "\n",
            "INFY-EQ:\n",
            "July: 6.11%\n",
            "January: 3.59%\n",
            "November: 2.57%\n",
            "\n",
            "DIVISLAB-EQ:\n",
            "April: 7.82%\n",
            "August: 6.98%\n",
            "July: 5.87%\n",
            "\n",
            "SUNPHARMA-EQ:\n",
            "July: 6.45%\n",
            "January: 3.27%\n",
            "June: 2.61%\n",
            "\n",
            "WIPRO-EQ:\n",
            "July: 5.26%\n",
            "December: 3.98%\n",
            "May: 1.54%\n",
            "\n",
            "TATACONSUM-EQ:\n",
            "August: 8.35%\n",
            "April: 7.82%\n",
            "July: 4.90%\n",
            "\n",
            "BAJFINANCE-EQ:\n",
            "July: 10.72%\n",
            "June: 9.44%\n",
            "August: 5.11%\n",
            "\n",
            "HCLTECH-EQ:\n",
            "September: 4.23%\n",
            "July: 3.96%\n",
            "August: 3.55%\n",
            "\n",
            "SBIN-EQ:\n",
            "October: 7.30%\n",
            "July: 4.36%\n",
            "May: 3.36%\n",
            "\n",
            "BAJAJFINSV-EQ:\n",
            "July: 10.56%\n",
            "November: 6.58%\n",
            "April: 5.39%\n",
            "\n",
            "JSWSTEEL-EQ:\n",
            "April: 11.26%\n",
            "August: 6.27%\n",
            "July: 3.51%\n",
            "\n",
            "CIPLA-EQ:\n",
            "July: 4.74%\n",
            "April: 4.31%\n",
            "August: 3.03%\n",
            "\n",
            "HINDALCO-EQ:\n",
            "April: 7.58%\n",
            "July: 6.60%\n",
            "November: 5.72%\n"
          ]
        }
      ]
    },
    {
      "cell_type": "code",
      "source": [
        "import numpy as np\n",
        "import pandas as pd\n",
        "from pya3 import Aliceblue\n",
        "from datetime import datetime\n",
        "\n",
        "def get_user_credentials():\n",
        "    user_id = input(\"Enter your user ID: \")\n",
        "    api_key = input(\"Enter your API key: \")\n",
        "    return user_id, api_key\n",
        "\n",
        "def initialize_alice():\n",
        "    user_id, api_key = get_user_credentials()\n",
        "    alice = Aliceblue(user_id=user_id, api_key=api_key)\n",
        "    alice.get_session_id()\n",
        "    return alice\n",
        "\n",
        "def analyze_stock(alice, token):\n",
        "    instrument = alice.get_instrument_by_token('NSE', token)\n",
        "\n",
        "    from_datetime = datetime(2014, 7, 1)\n",
        "    to_datetime = datetime(2024, 7, 1)\n",
        "    interval = \"D\"\n",
        "\n",
        "    historical_data = alice.get_historical(instrument, from_datetime, to_datetime, interval)\n",
        "    df = pd.DataFrame(historical_data)\n",
        "\n",
        "    # Preprocess data\n",
        "    df['datetime'] = pd.to_datetime(df['datetime'], format='%Y-%m-%d %H:%M:%S')\n",
        "    df.set_index('datetime', inplace=True)\n",
        "    df['pct'] = df['close'].pct_change()\n",
        "    df.columns = df.columns.str.strip()\n",
        "    df = df.drop(columns=['open', 'high', 'low', 'close', 'volume']).dropna()\n",
        "\n",
        "    # Resample data to get monthly percentage change\n",
        "    monthly_pct_change = df['pct'].resample('M').sum()\n",
        "    df = monthly_pct_change.to_frame(name='pct')\n",
        "\n",
        "    # Extract year and month for analysis\n",
        "    df['year'] = df.index.year\n",
        "    df['month'] = df.index.month\n",
        "\n",
        "    # Calculate average monthly returns and standard deviation\n",
        "    monthly_avg = df.groupby('month')['pct'].mean()\n",
        "    monthly_std = df.groupby('month')['pct'].std()\n",
        "\n",
        "    # Combine into a single DataFrame\n",
        "    monthly_stats = pd.DataFrame({\n",
        "        'Average Return': monthly_avg,\n",
        "        'Standard Deviation': monthly_std\n",
        "    }).sort_values(by='Average Return', ascending=False)\n",
        "\n",
        "    return monthly_stats\n",
        "\n",
        "def get_stock_name(alice, token):\n",
        "    instrument = alice.get_instrument_by_token('NSE', token)\n",
        "    return instrument.name\n",
        "\n",
        "def main():\n",
        "    # Initialize Aliceblue object and get credentials\n",
        "    alice = initialize_alice()\n",
        "\n",
        "    # List of tokens to analyze\n",
        "    tokens = [\n",
        "        11532, 4306, 467, 2885, 1394, 10999, 547, 1232, 1922, 526, 17818, 21808,\n",
        "        17963, 1660, 11536, 15083, 3456, 11483, 13538, 236, 20374, 10604, 25,\n",
        "        14977, 4963, 5258, 1594, 10940, 3351, 3787, 11630, 3432, 317, 7229,\n",
        "        3045, 1348, 16675, 881, 3506, 11723, 2475, 1333, 910, 5900, 694, 2031,\n",
        "        157, 1363, 16669, 3499\n",
        "    ]\n",
        "\n",
        "    top_tokens = []\n",
        "\n",
        "    for token in tokens:\n",
        "        monthly_stats = analyze_stock(alice, token)\n",
        "\n",
        "        # Get top three months\n",
        "        top_months = monthly_stats.head(3)\n",
        "\n",
        "        if 7 in top_months.index:  # Check if July (7) is one of the top 3 months\n",
        "            stock_name = get_stock_name(alice, token)\n",
        "            top_tokens.append((token, stock_name))\n",
        "\n",
        "    # Print tokens and stock names\n",
        "    print(\"\\nTokens and Stocks with July in Top 3 Months of Highest Average Return:\")\n",
        "    for token, stock_name in top_tokens:\n",
        "        print(f\"Token: {token}, Stock Name: {stock_name}\")\n",
        "\n",
        "if __name__ == \"__main__\":\n",
        "    main()\n"
      ],
      "metadata": {
        "colab": {
          "base_uri": "https://localhost:8080/"
        },
        "id": "YF_mWBfcMUmc",
        "outputId": "dbb41e87-af77-45ba-ed8b-b3c8521a83e2"
      },
      "execution_count": 12,
      "outputs": [
        {
          "output_type": "stream",
          "name": "stdout",
          "text": [
            "Enter your user ID: 1141826\n",
            "Enter your API key: p45ZLNepIFnmQBWFVTqDU6qhmGsOppf0ZLOuOYyoafbyuMTDOd6pcK5kCn0KL5HclXfC7eG5CapFmbgt4F35PUZ9zk5ZC0F4e1GRlnmAT3O5v82VZJeD9PluY7Bfyqsb\n",
            "\n",
            "Tokens and Stocks with July in Top 3 Months of Highest Average Return:\n",
            "Token: 11532, Stock Name: ULTRACEMCO-EQ\n",
            "Token: 467, Stock Name: HDFCLIFE-EQ\n",
            "Token: 2885, Stock Name: RELIANCE-EQ\n",
            "Token: 1394, Stock Name: HINDUNILVR-EQ\n",
            "Token: 547, Stock Name: BRITANNIA-EQ\n",
            "Token: 21808, Stock Name: SBILIFE-EQ\n",
            "Token: 11536, Stock Name: TCS-EQ\n",
            "Token: 13538, Stock Name: TECHM-EQ\n",
            "Token: 236, Stock Name: ASIANPAINT-EQ\n",
            "Token: 4963, Stock Name: ICICIBANK-EQ\n",
            "Token: 5258, Stock Name: INDUSINDBK-EQ\n",
            "Token: 1594, Stock Name: INFY-EQ\n",
            "Token: 10940, Stock Name: DIVISLAB-EQ\n",
            "Token: 3351, Stock Name: SUNPHARMA-EQ\n",
            "Token: 3787, Stock Name: WIPRO-EQ\n",
            "Token: 3432, Stock Name: TATACONSUM-EQ\n",
            "Token: 317, Stock Name: BAJFINANCE-EQ\n",
            "Token: 7229, Stock Name: HCLTECH-EQ\n",
            "Token: 3045, Stock Name: SBIN-EQ\n",
            "Token: 16675, Stock Name: BAJAJFINSV-EQ\n",
            "Token: 11723, Stock Name: JSWSTEEL-EQ\n",
            "Token: 694, Stock Name: CIPLA-EQ\n",
            "Token: 1363, Stock Name: HINDALCO-EQ\n"
          ]
        }
      ]
    },
    {
      "cell_type": "code",
      "source": [
        "import numpy as np\n",
        "import pandas as pd\n",
        "from pya3 import Aliceblue\n",
        "from datetime import datetime\n",
        "\n",
        "def get_user_credentials():\n",
        "    user_id = input(\"Enter your user ID: \")\n",
        "    api_key = input(\"Enter your API key: \")\n",
        "    return user_id, api_key\n",
        "\n",
        "def initialize_alice():\n",
        "    user_id, api_key = get_user_credentials()\n",
        "    alice = Aliceblue(user_id=user_id, api_key=api_key)\n",
        "    alice.get_session_id()\n",
        "    return alice\n",
        "\n",
        "def analyze_stock(alice, token):\n",
        "    instrument = alice.get_instrument_by_token('NSE', token)\n",
        "\n",
        "    from_datetime = datetime(2014, 7, 1)\n",
        "    to_datetime = datetime(2024, 7, 1)\n",
        "    interval = \"D\"\n",
        "\n",
        "    historical_data = alice.get_historical(instrument, from_datetime, to_datetime, interval)\n",
        "    df = pd.DataFrame(historical_data)\n",
        "\n",
        "    # Preprocess data\n",
        "    df['datetime'] = pd.to_datetime(df['datetime'], format='%Y-%m-%d %H:%M:%S')\n",
        "    df.set_index('datetime', inplace=True)\n",
        "    df['pct'] = df['close'].pct_change()\n",
        "    df.columns = df.columns.str.strip()\n",
        "    df = df.drop(columns=['open', 'high', 'low', 'close', 'volume']).dropna()\n",
        "\n",
        "    # Resample data to get monthly percentage change\n",
        "    monthly_pct_change = df['pct'].resample('M').sum()\n",
        "    df = monthly_pct_change.to_frame(name='pct')\n",
        "\n",
        "    # Extract year and month for analysis\n",
        "    df['year'] = df.index.year\n",
        "    df['month'] = df.index.month\n",
        "\n",
        "    # Calculate average monthly returns and standard deviation\n",
        "    monthly_avg = df.groupby('month')['pct'].mean()\n",
        "    monthly_std = df.groupby('month')['pct'].std()\n",
        "\n",
        "    # Combine into a single DataFrame\n",
        "    monthly_stats = pd.DataFrame({\n",
        "        'Average Return': monthly_avg,\n",
        "        'Standard Deviation': monthly_std\n",
        "    }).sort_values(by='Average Return', ascending=False)\n",
        "\n",
        "    return monthly_stats\n",
        "\n",
        "def analyze_july_categories(alice, token):\n",
        "    instrument = alice.get_instrument_by_token('NSE', token)\n",
        "\n",
        "    from_datetime = datetime(2014, 7, 1)\n",
        "    to_datetime = datetime(2024, 7, 1)\n",
        "    interval = \"D\"\n",
        "\n",
        "    historical_data = alice.get_historical(instrument, from_datetime, to_datetime, interval)\n",
        "    df = pd.DataFrame(historical_data)\n",
        "\n",
        "    # Preprocess data\n",
        "    df['datetime'] = pd.to_datetime(df['datetime'], format='%Y-%m-%d %H:%M:%S')\n",
        "    df.set_index('datetime', inplace=True)\n",
        "    df['pct'] = df['close'].pct_change()\n",
        "    df.columns = df.columns.str.strip()\n",
        "    df = df.drop(columns=['open', 'high', 'low', 'close', 'volume']).dropna()\n",
        "\n",
        "    # Filter for July data\n",
        "    july_data = df[df.index.month == 7]\n",
        "\n",
        "    # Create date categories\n",
        "    def categorize_date(date):\n",
        "        if 1 <= date.day <= 10:\n",
        "            return 'Category 1 (1-10)'\n",
        "        elif 11 <= date.day <= 20:\n",
        "            return 'Category 2 (11-20)'\n",
        "        else:\n",
        "            return 'Category 3 (21-31)'\n",
        "\n",
        "    july_data['category'] = july_data.index.to_series().apply(categorize_date)\n",
        "\n",
        "    # Calculate percentage change for each category\n",
        "    category_pct_change = july_data.groupby('category')['pct'].sum()\n",
        "\n",
        "    return category_pct_change\n",
        "\n",
        "def get_stock_name(alice, token):\n",
        "    instrument = alice.get_instrument_by_token('NSE', token)\n",
        "    return instrument.name\n",
        "\n",
        "def main():\n",
        "    # Initialize Aliceblue object and get credentials\n",
        "    alice = initialize_alice()\n",
        "\n",
        "    # List of tokens to analyze\n",
        "    tokens = [\n",
        "        11532, 4306, 467, 2885, 1394, 10999, 547, 1232, 1922, 526, 17818, 21808,\n",
        "        17963, 1660, 11536, 15083, 3456, 11483, 13538, 236, 20374, 10604, 25,\n",
        "        14977, 4963, 5258, 1594, 10940, 3351, 3787, 11630, 3432, 317, 7229,\n",
        "        3045, 1348, 16675, 881, 3506, 11723, 2475, 1333, 910, 5900, 694, 2031,\n",
        "        157, 1363, 16669, 3499\n",
        "    ]\n",
        "\n",
        "    top_tokens = []\n",
        "\n",
        "    for token in tokens:\n",
        "        monthly_stats = analyze_stock(alice, token)\n",
        "\n",
        "        # Get top three months\n",
        "        top_months = monthly_stats.head(3)\n",
        "\n",
        "        if 7 in top_months.index:  # Check if July (7) is one of the top 3 months\n",
        "            stock_name = get_stock_name(alice, token)\n",
        "            top_tokens.append((token, stock_name))\n",
        "\n",
        "    # Print tokens and stock names\n",
        "    print(\"\\nTokens and Stocks with July in Top 3 Months of Highest Average Return:\")\n",
        "    for token, stock_name in top_tokens:\n",
        "        print(f\"Token: {token}, Stock Name: {stock_name}\")\n",
        "\n",
        "    # Analyze July categories for top stocks\n",
        "    print(\"\\nJuly Category Analysis for Top Stocks:\")\n",
        "    for token, stock_name in top_tokens:\n",
        "        category_pct_change = analyze_july_categories(alice, token)\n",
        "        print(f\"\\n{stock_name} (Token: {token}):\")\n",
        "        for category, pct_change in category_pct_change.items():\n",
        "            print(f\"{category}: {pct_change:.2%}\")\n",
        "\n",
        "if __name__ == \"__main__\":\n",
        "    main()\n"
      ],
      "metadata": {
        "colab": {
          "base_uri": "https://localhost:8080/"
        },
        "id": "4OP54A_FOeJa",
        "outputId": "2c3c6922-568d-4104-d3ed-1c3fcfc97464"
      },
      "execution_count": 13,
      "outputs": [
        {
          "output_type": "stream",
          "name": "stdout",
          "text": [
            "Enter your user ID: 1141826\n",
            "Enter your API key: p45ZLNepIFnmQBWFVTqDU6qhmGsOppf0ZLOuOYyoafbyuMTDOd6pcK5kCn0KL5HclXfC7eG5CapFmbgt4F35PUZ9zk5ZC0F4e1GRlnmAT3O5v82VZJeD9PluY7Bfyqsb\n",
            "\n",
            "Tokens and Stocks with July in Top 3 Months of Highest Average Return:\n",
            "Token: 11532, Stock Name: ULTRACEMCO-EQ\n",
            "Token: 467, Stock Name: HDFCLIFE-EQ\n",
            "Token: 2885, Stock Name: RELIANCE-EQ\n",
            "Token: 1394, Stock Name: HINDUNILVR-EQ\n",
            "Token: 547, Stock Name: BRITANNIA-EQ\n",
            "Token: 21808, Stock Name: SBILIFE-EQ\n",
            "Token: 11536, Stock Name: TCS-EQ\n",
            "Token: 13538, Stock Name: TECHM-EQ\n",
            "Token: 236, Stock Name: ASIANPAINT-EQ\n",
            "Token: 4963, Stock Name: ICICIBANK-EQ\n",
            "Token: 5258, Stock Name: INDUSINDBK-EQ\n",
            "Token: 1594, Stock Name: INFY-EQ\n",
            "Token: 10940, Stock Name: DIVISLAB-EQ\n",
            "Token: 3351, Stock Name: SUNPHARMA-EQ\n",
            "Token: 3787, Stock Name: WIPRO-EQ\n",
            "Token: 3432, Stock Name: TATACONSUM-EQ\n",
            "Token: 317, Stock Name: BAJFINANCE-EQ\n",
            "Token: 7229, Stock Name: HCLTECH-EQ\n",
            "Token: 3045, Stock Name: SBIN-EQ\n",
            "Token: 16675, Stock Name: BAJAJFINSV-EQ\n",
            "Token: 11723, Stock Name: JSWSTEEL-EQ\n",
            "Token: 694, Stock Name: CIPLA-EQ\n",
            "Token: 1363, Stock Name: HINDALCO-EQ\n",
            "\n",
            "July Category Analysis for Top Stocks:\n"
          ]
        },
        {
          "output_type": "stream",
          "name": "stderr",
          "text": [
            "<ipython-input-13-9097fc5358ea>:83: SettingWithCopyWarning: \n",
            "A value is trying to be set on a copy of a slice from a DataFrame.\n",
            "Try using .loc[row_indexer,col_indexer] = value instead\n",
            "\n",
            "See the caveats in the documentation: https://pandas.pydata.org/pandas-docs/stable/user_guide/indexing.html#returning-a-view-versus-a-copy\n",
            "  july_data['category'] = july_data.index.to_series().apply(categorize_date)\n"
          ]
        },
        {
          "output_type": "stream",
          "name": "stdout",
          "text": [
            "\n",
            "ULTRACEMCO-EQ (Token: 11532):\n",
            "Category 1 (1-10): 12.49%\n",
            "Category 2 (11-20): 24.34%\n",
            "Category 3 (21-31): 13.18%\n"
          ]
        },
        {
          "output_type": "stream",
          "name": "stderr",
          "text": [
            "<ipython-input-13-9097fc5358ea>:83: SettingWithCopyWarning: \n",
            "A value is trying to be set on a copy of a slice from a DataFrame.\n",
            "Try using .loc[row_indexer,col_indexer] = value instead\n",
            "\n",
            "See the caveats in the documentation: https://pandas.pydata.org/pandas-docs/stable/user_guide/indexing.html#returning-a-view-versus-a-copy\n",
            "  july_data['category'] = july_data.index.to_series().apply(categorize_date)\n"
          ]
        },
        {
          "output_type": "stream",
          "name": "stdout",
          "text": [
            "\n",
            "HDFCLIFE-EQ (Token: 467):\n",
            "Category 1 (1-10): 12.77%\n",
            "Category 2 (11-20): 6.36%\n",
            "Category 3 (21-31): 9.72%\n"
          ]
        },
        {
          "output_type": "stream",
          "name": "stderr",
          "text": [
            "<ipython-input-13-9097fc5358ea>:83: SettingWithCopyWarning: \n",
            "A value is trying to be set on a copy of a slice from a DataFrame.\n",
            "Try using .loc[row_indexer,col_indexer] = value instead\n",
            "\n",
            "See the caveats in the documentation: https://pandas.pydata.org/pandas-docs/stable/user_guide/indexing.html#returning-a-view-versus-a-copy\n",
            "  july_data['category'] = july_data.index.to_series().apply(categorize_date)\n"
          ]
        },
        {
          "output_type": "stream",
          "name": "stdout",
          "text": [
            "\n",
            "RELIANCE-EQ (Token: 2885):\n",
            "Category 1 (1-10): 22.64%\n",
            "Category 2 (11-20): 18.74%\n",
            "Category 3 (21-31): 6.73%\n"
          ]
        },
        {
          "output_type": "stream",
          "name": "stderr",
          "text": [
            "<ipython-input-13-9097fc5358ea>:83: SettingWithCopyWarning: \n",
            "A value is trying to be set on a copy of a slice from a DataFrame.\n",
            "Try using .loc[row_indexer,col_indexer] = value instead\n",
            "\n",
            "See the caveats in the documentation: https://pandas.pydata.org/pandas-docs/stable/user_guide/indexing.html#returning-a-view-versus-a-copy\n",
            "  july_data['category'] = july_data.index.to_series().apply(categorize_date)\n"
          ]
        },
        {
          "output_type": "stream",
          "name": "stdout",
          "text": [
            "\n",
            "HINDUNILVR-EQ (Token: 1394):\n",
            "Category 1 (1-10): 14.90%\n",
            "Category 2 (11-20): 12.28%\n",
            "Category 3 (21-31): 4.53%\n"
          ]
        },
        {
          "output_type": "stream",
          "name": "stderr",
          "text": [
            "<ipython-input-13-9097fc5358ea>:83: SettingWithCopyWarning: \n",
            "A value is trying to be set on a copy of a slice from a DataFrame.\n",
            "Try using .loc[row_indexer,col_indexer] = value instead\n",
            "\n",
            "See the caveats in the documentation: https://pandas.pydata.org/pandas-docs/stable/user_guide/indexing.html#returning-a-view-versus-a-copy\n",
            "  july_data['category'] = july_data.index.to_series().apply(categorize_date)\n"
          ]
        },
        {
          "output_type": "stream",
          "name": "stdout",
          "text": [
            "\n",
            "BRITANNIA-EQ (Token: 547):\n",
            "Category 1 (1-10): 15.52%\n",
            "Category 2 (11-20): 9.07%\n",
            "Category 3 (21-31): 21.60%\n"
          ]
        },
        {
          "output_type": "stream",
          "name": "stderr",
          "text": [
            "<ipython-input-13-9097fc5358ea>:83: SettingWithCopyWarning: \n",
            "A value is trying to be set on a copy of a slice from a DataFrame.\n",
            "Try using .loc[row_indexer,col_indexer] = value instead\n",
            "\n",
            "See the caveats in the documentation: https://pandas.pydata.org/pandas-docs/stable/user_guide/indexing.html#returning-a-view-versus-a-copy\n",
            "  july_data['category'] = july_data.index.to_series().apply(categorize_date)\n"
          ]
        },
        {
          "output_type": "stream",
          "name": "stdout",
          "text": [
            "\n",
            "SBILIFE-EQ (Token: 21808):\n",
            "Category 1 (1-10): 13.91%\n",
            "Category 2 (11-20): 0.18%\n",
            "Category 3 (21-31): 36.84%\n"
          ]
        },
        {
          "output_type": "stream",
          "name": "stderr",
          "text": [
            "<ipython-input-13-9097fc5358ea>:83: SettingWithCopyWarning: \n",
            "A value is trying to be set on a copy of a slice from a DataFrame.\n",
            "Try using .loc[row_indexer,col_indexer] = value instead\n",
            "\n",
            "See the caveats in the documentation: https://pandas.pydata.org/pandas-docs/stable/user_guide/indexing.html#returning-a-view-versus-a-copy\n",
            "  july_data['category'] = july_data.index.to_series().apply(categorize_date)\n"
          ]
        },
        {
          "output_type": "stream",
          "name": "stdout",
          "text": [
            "\n",
            "TCS-EQ (Token: 11536):\n",
            "Category 1 (1-10): -6.79%\n",
            "Category 2 (11-20): 18.61%\n",
            "Category 3 (21-31): 18.49%\n"
          ]
        },
        {
          "output_type": "stream",
          "name": "stderr",
          "text": [
            "<ipython-input-13-9097fc5358ea>:83: SettingWithCopyWarning: \n",
            "A value is trying to be set on a copy of a slice from a DataFrame.\n",
            "Try using .loc[row_indexer,col_indexer] = value instead\n",
            "\n",
            "See the caveats in the documentation: https://pandas.pydata.org/pandas-docs/stable/user_guide/indexing.html#returning-a-view-versus-a-copy\n",
            "  july_data['category'] = july_data.index.to_series().apply(categorize_date)\n"
          ]
        },
        {
          "output_type": "stream",
          "name": "stdout",
          "text": [
            "\n",
            "TECHM-EQ (Token: 13538):\n",
            "Category 1 (1-10): -2.32%\n",
            "Category 2 (11-20): 38.12%\n",
            "Category 3 (21-31): 9.20%\n"
          ]
        },
        {
          "output_type": "stream",
          "name": "stderr",
          "text": [
            "<ipython-input-13-9097fc5358ea>:83: SettingWithCopyWarning: \n",
            "A value is trying to be set on a copy of a slice from a DataFrame.\n",
            "Try using .loc[row_indexer,col_indexer] = value instead\n",
            "\n",
            "See the caveats in the documentation: https://pandas.pydata.org/pandas-docs/stable/user_guide/indexing.html#returning-a-view-versus-a-copy\n",
            "  july_data['category'] = july_data.index.to_series().apply(categorize_date)\n"
          ]
        },
        {
          "output_type": "stream",
          "name": "stdout",
          "text": [
            "\n",
            "ASIANPAINT-EQ (Token: 236):\n",
            "Category 1 (1-10): 22.73%\n",
            "Category 2 (11-20): 33.25%\n",
            "Category 3 (21-31): 33.05%\n"
          ]
        },
        {
          "output_type": "stream",
          "name": "stderr",
          "text": [
            "<ipython-input-13-9097fc5358ea>:83: SettingWithCopyWarning: \n",
            "A value is trying to be set on a copy of a slice from a DataFrame.\n",
            "Try using .loc[row_indexer,col_indexer] = value instead\n",
            "\n",
            "See the caveats in the documentation: https://pandas.pydata.org/pandas-docs/stable/user_guide/indexing.html#returning-a-view-versus-a-copy\n",
            "  july_data['category'] = july_data.index.to_series().apply(categorize_date)\n"
          ]
        },
        {
          "output_type": "stream",
          "name": "stdout",
          "text": [
            "\n",
            "ICICIBANK-EQ (Token: 4963):\n",
            "Category 1 (1-10): 10.45%\n",
            "Category 2 (11-20): 23.34%\n",
            "Category 3 (21-31): 18.74%\n"
          ]
        },
        {
          "output_type": "stream",
          "name": "stderr",
          "text": [
            "<ipython-input-13-9097fc5358ea>:83: SettingWithCopyWarning: \n",
            "A value is trying to be set on a copy of a slice from a DataFrame.\n",
            "Try using .loc[row_indexer,col_indexer] = value instead\n",
            "\n",
            "See the caveats in the documentation: https://pandas.pydata.org/pandas-docs/stable/user_guide/indexing.html#returning-a-view-versus-a-copy\n",
            "  july_data['category'] = july_data.index.to_series().apply(categorize_date)\n"
          ]
        },
        {
          "output_type": "stream",
          "name": "stdout",
          "text": [
            "\n",
            "INDUSINDBK-EQ (Token: 5258):\n",
            "Category 1 (1-10): 29.25%\n",
            "Category 2 (11-20): 0.83%\n",
            "Category 3 (21-31): 38.04%\n"
          ]
        },
        {
          "output_type": "stream",
          "name": "stderr",
          "text": [
            "<ipython-input-13-9097fc5358ea>:83: SettingWithCopyWarning: \n",
            "A value is trying to be set on a copy of a slice from a DataFrame.\n",
            "Try using .loc[row_indexer,col_indexer] = value instead\n",
            "\n",
            "See the caveats in the documentation: https://pandas.pydata.org/pandas-docs/stable/user_guide/indexing.html#returning-a-view-versus-a-copy\n",
            "  july_data['category'] = july_data.index.to_series().apply(categorize_date)\n"
          ]
        },
        {
          "output_type": "stream",
          "name": "stdout",
          "text": [
            "\n",
            "INFY-EQ (Token: 1594):\n",
            "Category 1 (1-10): 6.15%\n",
            "Category 2 (11-20): 40.32%\n",
            "Category 3 (21-31): 20.73%\n"
          ]
        },
        {
          "output_type": "stream",
          "name": "stderr",
          "text": [
            "<ipython-input-13-9097fc5358ea>:83: SettingWithCopyWarning: \n",
            "A value is trying to be set on a copy of a slice from a DataFrame.\n",
            "Try using .loc[row_indexer,col_indexer] = value instead\n",
            "\n",
            "See the caveats in the documentation: https://pandas.pydata.org/pandas-docs/stable/user_guide/indexing.html#returning-a-view-versus-a-copy\n",
            "  july_data['category'] = july_data.index.to_series().apply(categorize_date)\n"
          ]
        },
        {
          "output_type": "stream",
          "name": "stdout",
          "text": [
            "\n",
            "DIVISLAB-EQ (Token: 10940):\n",
            "Category 1 (1-10): 25.46%\n",
            "Category 2 (11-20): 24.16%\n",
            "Category 3 (21-31): 14.95%\n"
          ]
        },
        {
          "output_type": "stream",
          "name": "stderr",
          "text": [
            "<ipython-input-13-9097fc5358ea>:83: SettingWithCopyWarning: \n",
            "A value is trying to be set on a copy of a slice from a DataFrame.\n",
            "Try using .loc[row_indexer,col_indexer] = value instead\n",
            "\n",
            "See the caveats in the documentation: https://pandas.pydata.org/pandas-docs/stable/user_guide/indexing.html#returning-a-view-versus-a-copy\n",
            "  july_data['category'] = july_data.index.to_series().apply(categorize_date)\n"
          ]
        },
        {
          "output_type": "stream",
          "name": "stdout",
          "text": [
            "\n",
            "SUNPHARMA-EQ (Token: 3351):\n",
            "Category 1 (1-10): 17.27%\n",
            "Category 2 (11-20): 25.41%\n",
            "Category 3 (21-31): 28.26%\n"
          ]
        },
        {
          "output_type": "stream",
          "name": "stderr",
          "text": [
            "<ipython-input-13-9097fc5358ea>:83: SettingWithCopyWarning: \n",
            "A value is trying to be set on a copy of a slice from a DataFrame.\n",
            "Try using .loc[row_indexer,col_indexer] = value instead\n",
            "\n",
            "See the caveats in the documentation: https://pandas.pydata.org/pandas-docs/stable/user_guide/indexing.html#returning-a-view-versus-a-copy\n",
            "  july_data['category'] = july_data.index.to_series().apply(categorize_date)\n"
          ]
        },
        {
          "output_type": "stream",
          "name": "stdout",
          "text": [
            "\n",
            "WIPRO-EQ (Token: 3787):\n",
            "Category 1 (1-10): 5.69%\n",
            "Category 2 (11-20): 38.82%\n",
            "Category 3 (21-31): 13.32%\n"
          ]
        },
        {
          "output_type": "stream",
          "name": "stderr",
          "text": [
            "<ipython-input-13-9097fc5358ea>:83: SettingWithCopyWarning: \n",
            "A value is trying to be set on a copy of a slice from a DataFrame.\n",
            "Try using .loc[row_indexer,col_indexer] = value instead\n",
            "\n",
            "See the caveats in the documentation: https://pandas.pydata.org/pandas-docs/stable/user_guide/indexing.html#returning-a-view-versus-a-copy\n",
            "  july_data['category'] = july_data.index.to_series().apply(categorize_date)\n"
          ]
        },
        {
          "output_type": "stream",
          "name": "stdout",
          "text": [
            "\n",
            "TATACONSUM-EQ (Token: 3432):\n",
            "Category 1 (1-10): 15.31%\n",
            "Category 2 (11-20): 7.33%\n",
            "Category 3 (21-31): 1.88%\n"
          ]
        },
        {
          "output_type": "stream",
          "name": "stderr",
          "text": [
            "<ipython-input-13-9097fc5358ea>:83: SettingWithCopyWarning: \n",
            "A value is trying to be set on a copy of a slice from a DataFrame.\n",
            "Try using .loc[row_indexer,col_indexer] = value instead\n",
            "\n",
            "See the caveats in the documentation: https://pandas.pydata.org/pandas-docs/stable/user_guide/indexing.html#returning-a-view-versus-a-copy\n",
            "  july_data['category'] = july_data.index.to_series().apply(categorize_date)\n"
          ]
        },
        {
          "output_type": "stream",
          "name": "stdout",
          "text": [
            "\n",
            "BAJFINANCE-EQ (Token: 317):\n",
            "Category 1 (1-10): 38.42%\n",
            "Category 2 (11-20): 36.36%\n",
            "Category 3 (21-31): 43.10%\n"
          ]
        },
        {
          "output_type": "stream",
          "name": "stderr",
          "text": [
            "<ipython-input-13-9097fc5358ea>:83: SettingWithCopyWarning: \n",
            "A value is trying to be set on a copy of a slice from a DataFrame.\n",
            "Try using .loc[row_indexer,col_indexer] = value instead\n",
            "\n",
            "See the caveats in the documentation: https://pandas.pydata.org/pandas-docs/stable/user_guide/indexing.html#returning-a-view-versus-a-copy\n",
            "  july_data['category'] = july_data.index.to_series().apply(categorize_date)\n"
          ]
        },
        {
          "output_type": "stream",
          "name": "stdout",
          "text": [
            "\n",
            "HCLTECH-EQ (Token: 7229):\n",
            "Category 1 (1-10): -0.49%\n",
            "Category 2 (11-20): 18.88%\n",
            "Category 3 (21-31): 25.13%\n"
          ]
        },
        {
          "output_type": "stream",
          "name": "stderr",
          "text": [
            "<ipython-input-13-9097fc5358ea>:83: SettingWithCopyWarning: \n",
            "A value is trying to be set on a copy of a slice from a DataFrame.\n",
            "Try using .loc[row_indexer,col_indexer] = value instead\n",
            "\n",
            "See the caveats in the documentation: https://pandas.pydata.org/pandas-docs/stable/user_guide/indexing.html#returning-a-view-versus-a-copy\n",
            "  july_data['category'] = july_data.index.to_series().apply(categorize_date)\n"
          ]
        },
        {
          "output_type": "stream",
          "name": "stdout",
          "text": [
            "\n",
            "SBIN-EQ (Token: 3045):\n",
            "Category 1 (1-10): 19.74%\n",
            "Category 2 (11-20): 11.41%\n",
            "Category 3 (21-31): 16.81%\n"
          ]
        },
        {
          "output_type": "stream",
          "name": "stderr",
          "text": [
            "<ipython-input-13-9097fc5358ea>:83: SettingWithCopyWarning: \n",
            "A value is trying to be set on a copy of a slice from a DataFrame.\n",
            "Try using .loc[row_indexer,col_indexer] = value instead\n",
            "\n",
            "See the caveats in the documentation: https://pandas.pydata.org/pandas-docs/stable/user_guide/indexing.html#returning-a-view-versus-a-copy\n",
            "  july_data['category'] = july_data.index.to_series().apply(categorize_date)\n"
          ]
        },
        {
          "output_type": "stream",
          "name": "stdout",
          "text": [
            "\n",
            "BAJAJFINSV-EQ (Token: 16675):\n",
            "Category 1 (1-10): 38.09%\n",
            "Category 2 (11-20): 36.15%\n",
            "Category 3 (21-31): 41.89%\n"
          ]
        },
        {
          "output_type": "stream",
          "name": "stderr",
          "text": [
            "<ipython-input-13-9097fc5358ea>:83: SettingWithCopyWarning: \n",
            "A value is trying to be set on a copy of a slice from a DataFrame.\n",
            "Try using .loc[row_indexer,col_indexer] = value instead\n",
            "\n",
            "See the caveats in the documentation: https://pandas.pydata.org/pandas-docs/stable/user_guide/indexing.html#returning-a-view-versus-a-copy\n",
            "  july_data['category'] = july_data.index.to_series().apply(categorize_date)\n"
          ]
        },
        {
          "output_type": "stream",
          "name": "stdout",
          "text": [
            "\n",
            "JSWSTEEL-EQ (Token: 11723):\n",
            "Category 1 (1-10): -5.83%\n",
            "Category 2 (11-20): 19.66%\n",
            "Category 3 (21-31): 24.74%\n"
          ]
        },
        {
          "output_type": "stream",
          "name": "stderr",
          "text": [
            "<ipython-input-13-9097fc5358ea>:83: SettingWithCopyWarning: \n",
            "A value is trying to be set on a copy of a slice from a DataFrame.\n",
            "Try using .loc[row_indexer,col_indexer] = value instead\n",
            "\n",
            "See the caveats in the documentation: https://pandas.pydata.org/pandas-docs/stable/user_guide/indexing.html#returning-a-view-versus-a-copy\n",
            "  july_data['category'] = july_data.index.to_series().apply(categorize_date)\n"
          ]
        },
        {
          "output_type": "stream",
          "name": "stdout",
          "text": [
            "\n",
            "CIPLA-EQ (Token: 694):\n",
            "Category 1 (1-10): 9.61%\n",
            "Category 2 (11-20): 21.82%\n",
            "Category 3 (21-31): 20.74%\n",
            "\n",
            "HINDALCO-EQ (Token: 1363):\n",
            "Category 1 (1-10): 16.28%\n",
            "Category 2 (11-20): 14.81%\n",
            "Category 3 (21-31): 41.46%\n"
          ]
        },
        {
          "output_type": "stream",
          "name": "stderr",
          "text": [
            "<ipython-input-13-9097fc5358ea>:83: SettingWithCopyWarning: \n",
            "A value is trying to be set on a copy of a slice from a DataFrame.\n",
            "Try using .loc[row_indexer,col_indexer] = value instead\n",
            "\n",
            "See the caveats in the documentation: https://pandas.pydata.org/pandas-docs/stable/user_guide/indexing.html#returning-a-view-versus-a-copy\n",
            "  july_data['category'] = july_data.index.to_series().apply(categorize_date)\n"
          ]
        }
      ]
    },
    {
      "cell_type": "code",
      "source": [
        "import numpy as np\n",
        "import pandas as pd\n",
        "from pya3 import Aliceblue\n",
        "from datetime import datetime\n",
        "\n",
        "def get_user_credentials():\n",
        "    user_id = input(\"Enter your user ID: \")\n",
        "    api_key = input(\"Enter your API key: \")\n",
        "    return user_id, api_key\n",
        "\n",
        "def initialize_alice():\n",
        "    user_id, api_key = get_user_credentials()\n",
        "    alice = Aliceblue(user_id=user_id, api_key=api_key)\n",
        "    alice.get_session_id()\n",
        "    return alice\n",
        "\n",
        "def analyze_stock(alice, token):\n",
        "    instrument = alice.get_instrument_by_token('NSE', token)\n",
        "\n",
        "    from_datetime = datetime(2014, 7, 1)\n",
        "    to_datetime = datetime(2024, 7, 1)\n",
        "    interval = \"D\"\n",
        "\n",
        "    historical_data = alice.get_historical(instrument, from_datetime, to_datetime, interval)\n",
        "    df = pd.DataFrame(historical_data)\n",
        "\n",
        "    # Preprocess data\n",
        "    df['datetime'] = pd.to_datetime(df['datetime'], format='%Y-%m-%d %H:%M:%S')\n",
        "    df.set_index('datetime', inplace=True)\n",
        "    df['pct'] = df['close'].pct_change()\n",
        "    df.columns = df.columns.str.strip()\n",
        "    df = df.drop(columns=['open', 'high', 'low', 'close', 'volume']).dropna()\n",
        "\n",
        "    # Resample data to get monthly percentage change\n",
        "    monthly_pct_change = df['pct'].resample('M').sum()\n",
        "    df = monthly_pct_change.to_frame(name='pct')\n",
        "\n",
        "    # Extract year and month for analysis\n",
        "    df['year'] = df.index.year\n",
        "    df['month'] = df.index.month\n",
        "\n",
        "    # Calculate average monthly returns and standard deviation\n",
        "    monthly_avg = df.groupby('month')['pct'].mean()\n",
        "    monthly_std = df.groupby('month')['pct'].std()\n",
        "\n",
        "    # Combine into a single DataFrame\n",
        "    monthly_stats = pd.DataFrame({\n",
        "        'Average Return': monthly_avg,\n",
        "        'Standard Deviation': monthly_std\n",
        "    }).sort_values(by='Average Return', ascending=False)\n",
        "\n",
        "    return monthly_stats\n",
        "\n",
        "def analyze_july_categories(alice, token):\n",
        "    instrument = alice.get_instrument_by_token('NSE', token)\n",
        "\n",
        "    from_datetime = datetime(2014, 7, 1)\n",
        "    to_datetime = datetime(2024, 7, 1)\n",
        "    interval = \"D\"\n",
        "\n",
        "    historical_data = alice.get_historical(instrument, from_datetime, to_datetime, interval)\n",
        "    df = pd.DataFrame(historical_data)\n",
        "\n",
        "    # Preprocess data\n",
        "    df['datetime'] = pd.to_datetime(df['datetime'], format='%Y-%m-%d %H:%M:%S')\n",
        "    df.set_index('datetime', inplace=True)\n",
        "    df['pct'] = df['close'].pct_change()\n",
        "    df.columns = df.columns.str.strip()\n",
        "    df = df.drop(columns=['open', 'high', 'low', 'close', 'volume']).dropna()\n",
        "\n",
        "    # Filter for July data\n",
        "    july_data = df[df.index.month == 7]\n",
        "\n",
        "    # Create date categories\n",
        "    def categorize_date(date):\n",
        "        if 1 <= date.day <= 10:\n",
        "            return 'Category 1 (1-10)'\n",
        "        elif 11 <= date.day <= 20:\n",
        "            return 'Category 2 (11-20)'\n",
        "        else:\n",
        "            return 'Category 3 (21-31)'\n",
        "\n",
        "    july_data['category'] = july_data.index.to_series().apply(categorize_date)\n",
        "\n",
        "    # Calculate average percentage change for each category over the years\n",
        "    category_avg_pct_change = july_data.groupby(['category', july_data.index.year])['pct'].sum().groupby('category').mean()\n",
        "\n",
        "    return category_avg_pct_change\n",
        "\n",
        "def get_stock_name(alice, token):\n",
        "    instrument = alice.get_instrument_by_token('NSE', token)\n",
        "    return instrument.name\n",
        "\n",
        "def main():\n",
        "    # Initialize Aliceblue object and get credentials\n",
        "    alice = initialize_alice()\n",
        "\n",
        "    # List of tokens to analyze\n",
        "    tokens = [\n",
        "        11532, 4306, 467, 2885, 1394, 10999, 547, 1232, 1922, 526, 17818, 21808,\n",
        "        17963, 1660, 11536, 15083, 3456, 11483, 13538, 236, 20374, 10604, 25,\n",
        "        14977, 4963, 5258, 1594, 10940, 3351, 3787, 11630, 3432, 317, 7229,\n",
        "        3045, 1348, 16675, 881, 3506, 11723, 2475, 1333, 910, 5900, 694, 2031,\n",
        "        157, 1363, 16669, 3499\n",
        "    ]\n",
        "\n",
        "    top_tokens = []\n",
        "\n",
        "    for token in tokens:\n",
        "        monthly_stats = analyze_stock(alice, token)\n",
        "\n",
        "        # Get top three months\n",
        "        top_months = monthly_stats.head(3)\n",
        "\n",
        "        if 7 in top_months.index:  # Check if July (7) is one of the top 3 months\n",
        "            stock_name = get_stock_name(alice, token)\n",
        "            top_tokens.append((token, stock_name))\n",
        "\n",
        "    # Print tokens and stock names\n",
        "    print(\"\\nTokens and Stocks with July in Top 3 Months of Highest Average Return:\")\n",
        "    for token, stock_name in top_tokens:\n",
        "        print(f\"Token: {token}, Stock Name: {stock_name}\")\n",
        "\n",
        "    # Analyze July categories for top stocks\n",
        "    print(\"\\nJuly Category Analysis for Top Stocks:\")\n",
        "    for token, stock_name in top_tokens:\n",
        "        category_avg_pct_change = analyze_july_categories(alice, token)\n",
        "        print(f\"\\n{stock_name} (Token: {token}):\")\n",
        "        for category, avg_pct_change in category_avg_pct_change.items():\n",
        "            print(f\"{category}: {avg_pct_change:.2%}\")\n",
        "\n",
        "if __name__ == \"__main__\":\n",
        "    main()\n"
      ],
      "metadata": {
        "colab": {
          "base_uri": "https://localhost:8080/"
        },
        "id": "mASmQomdVElu",
        "outputId": "5cb313b1-cb39-4b6a-ae0a-00a4e7002929"
      },
      "execution_count": 14,
      "outputs": [
        {
          "output_type": "stream",
          "name": "stdout",
          "text": [
            "Enter your user ID: 1141826\n",
            "Enter your API key: p45ZLNepIFnmQBWFVTqDU6qhmGsOppf0ZLOuOYyoafbyuMTDOd6pcK5kCn0KL5HclXfC7eG5CapFmbgt4F35PUZ9zk5ZC0F4e1GRlnmAT3O5v82VZJeD9PluY7Bfyqsb\n",
            "\n",
            "Tokens and Stocks with July in Top 3 Months of Highest Average Return:\n",
            "Token: 11532, Stock Name: ULTRACEMCO-EQ\n",
            "Token: 467, Stock Name: HDFCLIFE-EQ\n",
            "Token: 2885, Stock Name: RELIANCE-EQ\n",
            "Token: 1394, Stock Name: HINDUNILVR-EQ\n",
            "Token: 547, Stock Name: BRITANNIA-EQ\n",
            "Token: 21808, Stock Name: SBILIFE-EQ\n",
            "Token: 11536, Stock Name: TCS-EQ\n",
            "Token: 13538, Stock Name: TECHM-EQ\n",
            "Token: 236, Stock Name: ASIANPAINT-EQ\n",
            "Token: 4963, Stock Name: ICICIBANK-EQ\n",
            "Token: 5258, Stock Name: INDUSINDBK-EQ\n",
            "Token: 1594, Stock Name: INFY-EQ\n",
            "Token: 10940, Stock Name: DIVISLAB-EQ\n",
            "Token: 3351, Stock Name: SUNPHARMA-EQ\n",
            "Token: 3787, Stock Name: WIPRO-EQ\n",
            "Token: 3432, Stock Name: TATACONSUM-EQ\n",
            "Token: 317, Stock Name: BAJFINANCE-EQ\n",
            "Token: 7229, Stock Name: HCLTECH-EQ\n",
            "Token: 3045, Stock Name: SBIN-EQ\n",
            "Token: 16675, Stock Name: BAJAJFINSV-EQ\n",
            "Token: 11723, Stock Name: JSWSTEEL-EQ\n",
            "Token: 694, Stock Name: CIPLA-EQ\n",
            "Token: 1363, Stock Name: HINDALCO-EQ\n",
            "\n",
            "July Category Analysis for Top Stocks:\n"
          ]
        },
        {
          "output_type": "stream",
          "name": "stderr",
          "text": [
            "<ipython-input-14-51d15ba71ef7>:83: SettingWithCopyWarning: \n",
            "A value is trying to be set on a copy of a slice from a DataFrame.\n",
            "Try using .loc[row_indexer,col_indexer] = value instead\n",
            "\n",
            "See the caveats in the documentation: https://pandas.pydata.org/pandas-docs/stable/user_guide/indexing.html#returning-a-view-versus-a-copy\n",
            "  july_data['category'] = july_data.index.to_series().apply(categorize_date)\n"
          ]
        },
        {
          "output_type": "stream",
          "name": "stdout",
          "text": [
            "\n",
            "ULTRACEMCO-EQ (Token: 11532):\n",
            "Category 1 (1-10): 1.14%\n",
            "Category 2 (11-20): 2.43%\n",
            "Category 3 (21-31): 1.32%\n"
          ]
        },
        {
          "output_type": "stream",
          "name": "stderr",
          "text": [
            "<ipython-input-14-51d15ba71ef7>:83: SettingWithCopyWarning: \n",
            "A value is trying to be set on a copy of a slice from a DataFrame.\n",
            "Try using .loc[row_indexer,col_indexer] = value instead\n",
            "\n",
            "See the caveats in the documentation: https://pandas.pydata.org/pandas-docs/stable/user_guide/indexing.html#returning-a-view-versus-a-copy\n",
            "  july_data['category'] = july_data.index.to_series().apply(categorize_date)\n"
          ]
        },
        {
          "output_type": "stream",
          "name": "stdout",
          "text": [
            "\n",
            "HDFCLIFE-EQ (Token: 467):\n",
            "Category 1 (1-10): 1.82%\n",
            "Category 2 (11-20): 1.06%\n",
            "Category 3 (21-31): 1.62%\n"
          ]
        },
        {
          "output_type": "stream",
          "name": "stderr",
          "text": [
            "<ipython-input-14-51d15ba71ef7>:83: SettingWithCopyWarning: \n",
            "A value is trying to be set on a copy of a slice from a DataFrame.\n",
            "Try using .loc[row_indexer,col_indexer] = value instead\n",
            "\n",
            "See the caveats in the documentation: https://pandas.pydata.org/pandas-docs/stable/user_guide/indexing.html#returning-a-view-versus-a-copy\n",
            "  july_data['category'] = july_data.index.to_series().apply(categorize_date)\n"
          ]
        },
        {
          "output_type": "stream",
          "name": "stdout",
          "text": [
            "\n",
            "RELIANCE-EQ (Token: 2885):\n",
            "Category 1 (1-10): 2.06%\n",
            "Category 2 (11-20): 1.87%\n",
            "Category 3 (21-31): 0.67%\n"
          ]
        },
        {
          "output_type": "stream",
          "name": "stderr",
          "text": [
            "<ipython-input-14-51d15ba71ef7>:83: SettingWithCopyWarning: \n",
            "A value is trying to be set on a copy of a slice from a DataFrame.\n",
            "Try using .loc[row_indexer,col_indexer] = value instead\n",
            "\n",
            "See the caveats in the documentation: https://pandas.pydata.org/pandas-docs/stable/user_guide/indexing.html#returning-a-view-versus-a-copy\n",
            "  july_data['category'] = july_data.index.to_series().apply(categorize_date)\n"
          ]
        },
        {
          "output_type": "stream",
          "name": "stdout",
          "text": [
            "\n",
            "HINDUNILVR-EQ (Token: 1394):\n",
            "Category 1 (1-10): 1.35%\n",
            "Category 2 (11-20): 1.23%\n",
            "Category 3 (21-31): 0.45%\n"
          ]
        },
        {
          "output_type": "stream",
          "name": "stderr",
          "text": [
            "<ipython-input-14-51d15ba71ef7>:83: SettingWithCopyWarning: \n",
            "A value is trying to be set on a copy of a slice from a DataFrame.\n",
            "Try using .loc[row_indexer,col_indexer] = value instead\n",
            "\n",
            "See the caveats in the documentation: https://pandas.pydata.org/pandas-docs/stable/user_guide/indexing.html#returning-a-view-versus-a-copy\n",
            "  july_data['category'] = july_data.index.to_series().apply(categorize_date)\n"
          ]
        },
        {
          "output_type": "stream",
          "name": "stdout",
          "text": [
            "\n",
            "BRITANNIA-EQ (Token: 547):\n",
            "Category 1 (1-10): 1.41%\n",
            "Category 2 (11-20): 0.91%\n",
            "Category 3 (21-31): 2.16%\n"
          ]
        },
        {
          "output_type": "stream",
          "name": "stderr",
          "text": [
            "<ipython-input-14-51d15ba71ef7>:83: SettingWithCopyWarning: \n",
            "A value is trying to be set on a copy of a slice from a DataFrame.\n",
            "Try using .loc[row_indexer,col_indexer] = value instead\n",
            "\n",
            "See the caveats in the documentation: https://pandas.pydata.org/pandas-docs/stable/user_guide/indexing.html#returning-a-view-versus-a-copy\n",
            "  july_data['category'] = july_data.index.to_series().apply(categorize_date)\n"
          ]
        },
        {
          "output_type": "stream",
          "name": "stdout",
          "text": [
            "\n",
            "SBILIFE-EQ (Token: 21808):\n",
            "Category 1 (1-10): 1.99%\n",
            "Category 2 (11-20): 0.03%\n",
            "Category 3 (21-31): 6.14%\n"
          ]
        },
        {
          "output_type": "stream",
          "name": "stderr",
          "text": [
            "<ipython-input-14-51d15ba71ef7>:83: SettingWithCopyWarning: \n",
            "A value is trying to be set on a copy of a slice from a DataFrame.\n",
            "Try using .loc[row_indexer,col_indexer] = value instead\n",
            "\n",
            "See the caveats in the documentation: https://pandas.pydata.org/pandas-docs/stable/user_guide/indexing.html#returning-a-view-versus-a-copy\n",
            "  july_data['category'] = july_data.index.to_series().apply(categorize_date)\n"
          ]
        },
        {
          "output_type": "stream",
          "name": "stdout",
          "text": [
            "\n",
            "TCS-EQ (Token: 11536):\n",
            "Category 1 (1-10): -0.62%\n",
            "Category 2 (11-20): 1.86%\n",
            "Category 3 (21-31): 1.85%\n"
          ]
        },
        {
          "output_type": "stream",
          "name": "stderr",
          "text": [
            "<ipython-input-14-51d15ba71ef7>:83: SettingWithCopyWarning: \n",
            "A value is trying to be set on a copy of a slice from a DataFrame.\n",
            "Try using .loc[row_indexer,col_indexer] = value instead\n",
            "\n",
            "See the caveats in the documentation: https://pandas.pydata.org/pandas-docs/stable/user_guide/indexing.html#returning-a-view-versus-a-copy\n",
            "  july_data['category'] = july_data.index.to_series().apply(categorize_date)\n"
          ]
        },
        {
          "output_type": "stream",
          "name": "stdout",
          "text": [
            "\n",
            "TECHM-EQ (Token: 13538):\n",
            "Category 1 (1-10): -0.21%\n",
            "Category 2 (11-20): 3.81%\n",
            "Category 3 (21-31): 0.92%\n"
          ]
        },
        {
          "output_type": "stream",
          "name": "stderr",
          "text": [
            "<ipython-input-14-51d15ba71ef7>:83: SettingWithCopyWarning: \n",
            "A value is trying to be set on a copy of a slice from a DataFrame.\n",
            "Try using .loc[row_indexer,col_indexer] = value instead\n",
            "\n",
            "See the caveats in the documentation: https://pandas.pydata.org/pandas-docs/stable/user_guide/indexing.html#returning-a-view-versus-a-copy\n",
            "  july_data['category'] = july_data.index.to_series().apply(categorize_date)\n"
          ]
        },
        {
          "output_type": "stream",
          "name": "stdout",
          "text": [
            "\n",
            "ASIANPAINT-EQ (Token: 236):\n",
            "Category 1 (1-10): 2.07%\n",
            "Category 2 (11-20): 3.33%\n",
            "Category 3 (21-31): 3.31%\n"
          ]
        },
        {
          "output_type": "stream",
          "name": "stderr",
          "text": [
            "<ipython-input-14-51d15ba71ef7>:83: SettingWithCopyWarning: \n",
            "A value is trying to be set on a copy of a slice from a DataFrame.\n",
            "Try using .loc[row_indexer,col_indexer] = value instead\n",
            "\n",
            "See the caveats in the documentation: https://pandas.pydata.org/pandas-docs/stable/user_guide/indexing.html#returning-a-view-versus-a-copy\n",
            "  july_data['category'] = july_data.index.to_series().apply(categorize_date)\n"
          ]
        },
        {
          "output_type": "stream",
          "name": "stdout",
          "text": [
            "\n",
            "ICICIBANK-EQ (Token: 4963):\n",
            "Category 1 (1-10): 0.95%\n",
            "Category 2 (11-20): 2.33%\n",
            "Category 3 (21-31): 1.87%\n"
          ]
        },
        {
          "output_type": "stream",
          "name": "stderr",
          "text": [
            "<ipython-input-14-51d15ba71ef7>:83: SettingWithCopyWarning: \n",
            "A value is trying to be set on a copy of a slice from a DataFrame.\n",
            "Try using .loc[row_indexer,col_indexer] = value instead\n",
            "\n",
            "See the caveats in the documentation: https://pandas.pydata.org/pandas-docs/stable/user_guide/indexing.html#returning-a-view-versus-a-copy\n",
            "  july_data['category'] = july_data.index.to_series().apply(categorize_date)\n"
          ]
        },
        {
          "output_type": "stream",
          "name": "stdout",
          "text": [
            "\n",
            "INDUSINDBK-EQ (Token: 5258):\n",
            "Category 1 (1-10): 2.66%\n",
            "Category 2 (11-20): 0.08%\n",
            "Category 3 (21-31): 3.80%\n"
          ]
        },
        {
          "output_type": "stream",
          "name": "stderr",
          "text": [
            "<ipython-input-14-51d15ba71ef7>:83: SettingWithCopyWarning: \n",
            "A value is trying to be set on a copy of a slice from a DataFrame.\n",
            "Try using .loc[row_indexer,col_indexer] = value instead\n",
            "\n",
            "See the caveats in the documentation: https://pandas.pydata.org/pandas-docs/stable/user_guide/indexing.html#returning-a-view-versus-a-copy\n",
            "  july_data['category'] = july_data.index.to_series().apply(categorize_date)\n"
          ]
        },
        {
          "output_type": "stream",
          "name": "stdout",
          "text": [
            "\n",
            "INFY-EQ (Token: 1594):\n",
            "Category 1 (1-10): 0.56%\n",
            "Category 2 (11-20): 4.03%\n",
            "Category 3 (21-31): 2.07%\n"
          ]
        },
        {
          "output_type": "stream",
          "name": "stderr",
          "text": [
            "<ipython-input-14-51d15ba71ef7>:83: SettingWithCopyWarning: \n",
            "A value is trying to be set on a copy of a slice from a DataFrame.\n",
            "Try using .loc[row_indexer,col_indexer] = value instead\n",
            "\n",
            "See the caveats in the documentation: https://pandas.pydata.org/pandas-docs/stable/user_guide/indexing.html#returning-a-view-versus-a-copy\n",
            "  july_data['category'] = july_data.index.to_series().apply(categorize_date)\n"
          ]
        },
        {
          "output_type": "stream",
          "name": "stdout",
          "text": [
            "\n",
            "DIVISLAB-EQ (Token: 10940):\n",
            "Category 1 (1-10): 2.31%\n",
            "Category 2 (11-20): 2.42%\n",
            "Category 3 (21-31): 1.49%\n"
          ]
        },
        {
          "output_type": "stream",
          "name": "stderr",
          "text": [
            "<ipython-input-14-51d15ba71ef7>:83: SettingWithCopyWarning: \n",
            "A value is trying to be set on a copy of a slice from a DataFrame.\n",
            "Try using .loc[row_indexer,col_indexer] = value instead\n",
            "\n",
            "See the caveats in the documentation: https://pandas.pydata.org/pandas-docs/stable/user_guide/indexing.html#returning-a-view-versus-a-copy\n",
            "  july_data['category'] = july_data.index.to_series().apply(categorize_date)\n"
          ]
        },
        {
          "output_type": "stream",
          "name": "stdout",
          "text": [
            "\n",
            "SUNPHARMA-EQ (Token: 3351):\n",
            "Category 1 (1-10): 1.57%\n",
            "Category 2 (11-20): 2.54%\n",
            "Category 3 (21-31): 2.83%\n"
          ]
        },
        {
          "output_type": "stream",
          "name": "stderr",
          "text": [
            "<ipython-input-14-51d15ba71ef7>:83: SettingWithCopyWarning: \n",
            "A value is trying to be set on a copy of a slice from a DataFrame.\n",
            "Try using .loc[row_indexer,col_indexer] = value instead\n",
            "\n",
            "See the caveats in the documentation: https://pandas.pydata.org/pandas-docs/stable/user_guide/indexing.html#returning-a-view-versus-a-copy\n",
            "  july_data['category'] = july_data.index.to_series().apply(categorize_date)\n"
          ]
        },
        {
          "output_type": "stream",
          "name": "stdout",
          "text": [
            "\n",
            "WIPRO-EQ (Token: 3787):\n",
            "Category 1 (1-10): 0.52%\n",
            "Category 2 (11-20): 3.88%\n",
            "Category 3 (21-31): 1.33%\n"
          ]
        },
        {
          "output_type": "stream",
          "name": "stderr",
          "text": [
            "<ipython-input-14-51d15ba71ef7>:83: SettingWithCopyWarning: \n",
            "A value is trying to be set on a copy of a slice from a DataFrame.\n",
            "Try using .loc[row_indexer,col_indexer] = value instead\n",
            "\n",
            "See the caveats in the documentation: https://pandas.pydata.org/pandas-docs/stable/user_guide/indexing.html#returning-a-view-versus-a-copy\n",
            "  july_data['category'] = july_data.index.to_series().apply(categorize_date)\n"
          ]
        },
        {
          "output_type": "stream",
          "name": "stdout",
          "text": [
            "\n",
            "TATACONSUM-EQ (Token: 3432):\n",
            "Category 1 (1-10): 3.06%\n",
            "Category 2 (11-20): 1.83%\n",
            "Category 3 (21-31): 0.47%\n"
          ]
        },
        {
          "output_type": "stream",
          "name": "stderr",
          "text": [
            "<ipython-input-14-51d15ba71ef7>:83: SettingWithCopyWarning: \n",
            "A value is trying to be set on a copy of a slice from a DataFrame.\n",
            "Try using .loc[row_indexer,col_indexer] = value instead\n",
            "\n",
            "See the caveats in the documentation: https://pandas.pydata.org/pandas-docs/stable/user_guide/indexing.html#returning-a-view-versus-a-copy\n",
            "  july_data['category'] = july_data.index.to_series().apply(categorize_date)\n"
          ]
        },
        {
          "output_type": "stream",
          "name": "stdout",
          "text": [
            "\n",
            "BAJFINANCE-EQ (Token: 317):\n",
            "Category 1 (1-10): 3.49%\n",
            "Category 2 (11-20): 3.64%\n",
            "Category 3 (21-31): 4.31%\n"
          ]
        },
        {
          "output_type": "stream",
          "name": "stderr",
          "text": [
            "<ipython-input-14-51d15ba71ef7>:83: SettingWithCopyWarning: \n",
            "A value is trying to be set on a copy of a slice from a DataFrame.\n",
            "Try using .loc[row_indexer,col_indexer] = value instead\n",
            "\n",
            "See the caveats in the documentation: https://pandas.pydata.org/pandas-docs/stable/user_guide/indexing.html#returning-a-view-versus-a-copy\n",
            "  july_data['category'] = july_data.index.to_series().apply(categorize_date)\n"
          ]
        },
        {
          "output_type": "stream",
          "name": "stdout",
          "text": [
            "\n",
            "HCLTECH-EQ (Token: 7229):\n",
            "Category 1 (1-10): -0.04%\n",
            "Category 2 (11-20): 1.89%\n",
            "Category 3 (21-31): 2.51%\n"
          ]
        },
        {
          "output_type": "stream",
          "name": "stderr",
          "text": [
            "<ipython-input-14-51d15ba71ef7>:83: SettingWithCopyWarning: \n",
            "A value is trying to be set on a copy of a slice from a DataFrame.\n",
            "Try using .loc[row_indexer,col_indexer] = value instead\n",
            "\n",
            "See the caveats in the documentation: https://pandas.pydata.org/pandas-docs/stable/user_guide/indexing.html#returning-a-view-versus-a-copy\n",
            "  july_data['category'] = july_data.index.to_series().apply(categorize_date)\n"
          ]
        },
        {
          "output_type": "stream",
          "name": "stdout",
          "text": [
            "\n",
            "SBIN-EQ (Token: 3045):\n",
            "Category 1 (1-10): 1.79%\n",
            "Category 2 (11-20): 1.14%\n",
            "Category 3 (21-31): 1.68%\n"
          ]
        },
        {
          "output_type": "stream",
          "name": "stderr",
          "text": [
            "<ipython-input-14-51d15ba71ef7>:83: SettingWithCopyWarning: \n",
            "A value is trying to be set on a copy of a slice from a DataFrame.\n",
            "Try using .loc[row_indexer,col_indexer] = value instead\n",
            "\n",
            "See the caveats in the documentation: https://pandas.pydata.org/pandas-docs/stable/user_guide/indexing.html#returning-a-view-versus-a-copy\n",
            "  july_data['category'] = july_data.index.to_series().apply(categorize_date)\n"
          ]
        },
        {
          "output_type": "stream",
          "name": "stdout",
          "text": [
            "\n",
            "BAJAJFINSV-EQ (Token: 16675):\n",
            "Category 1 (1-10): 3.46%\n",
            "Category 2 (11-20): 3.62%\n",
            "Category 3 (21-31): 4.19%\n"
          ]
        },
        {
          "output_type": "stream",
          "name": "stderr",
          "text": [
            "<ipython-input-14-51d15ba71ef7>:83: SettingWithCopyWarning: \n",
            "A value is trying to be set on a copy of a slice from a DataFrame.\n",
            "Try using .loc[row_indexer,col_indexer] = value instead\n",
            "\n",
            "See the caveats in the documentation: https://pandas.pydata.org/pandas-docs/stable/user_guide/indexing.html#returning-a-view-versus-a-copy\n",
            "  july_data['category'] = july_data.index.to_series().apply(categorize_date)\n"
          ]
        },
        {
          "output_type": "stream",
          "name": "stdout",
          "text": [
            "\n",
            "JSWSTEEL-EQ (Token: 11723):\n",
            "Category 1 (1-10): -0.53%\n",
            "Category 2 (11-20): 1.97%\n",
            "Category 3 (21-31): 2.47%\n"
          ]
        },
        {
          "output_type": "stream",
          "name": "stderr",
          "text": [
            "<ipython-input-14-51d15ba71ef7>:83: SettingWithCopyWarning: \n",
            "A value is trying to be set on a copy of a slice from a DataFrame.\n",
            "Try using .loc[row_indexer,col_indexer] = value instead\n",
            "\n",
            "See the caveats in the documentation: https://pandas.pydata.org/pandas-docs/stable/user_guide/indexing.html#returning-a-view-versus-a-copy\n",
            "  july_data['category'] = july_data.index.to_series().apply(categorize_date)\n"
          ]
        },
        {
          "output_type": "stream",
          "name": "stdout",
          "text": [
            "\n",
            "CIPLA-EQ (Token: 694):\n",
            "Category 1 (1-10): 0.87%\n",
            "Category 2 (11-20): 2.18%\n",
            "Category 3 (21-31): 2.07%\n",
            "\n",
            "HINDALCO-EQ (Token: 1363):\n",
            "Category 1 (1-10): 1.48%\n",
            "Category 2 (11-20): 1.48%\n",
            "Category 3 (21-31): 4.15%\n"
          ]
        },
        {
          "output_type": "stream",
          "name": "stderr",
          "text": [
            "<ipython-input-14-51d15ba71ef7>:83: SettingWithCopyWarning: \n",
            "A value is trying to be set on a copy of a slice from a DataFrame.\n",
            "Try using .loc[row_indexer,col_indexer] = value instead\n",
            "\n",
            "See the caveats in the documentation: https://pandas.pydata.org/pandas-docs/stable/user_guide/indexing.html#returning-a-view-versus-a-copy\n",
            "  july_data['category'] = july_data.index.to_series().apply(categorize_date)\n"
          ]
        }
      ]
    },
    {
      "cell_type": "code",
      "source": [
        "import numpy as np\n",
        "import pandas as pd\n",
        "from pya3 import Aliceblue\n",
        "from datetime import datetime\n",
        "\n",
        "def get_user_credentials():\n",
        "    user_id = input(\"Enter your user ID: \")\n",
        "    api_key = input(\"Enter your API key: \")\n",
        "    return user_id, api_key\n",
        "\n",
        "def initialize_alice():\n",
        "    user_id, api_key = get_user_credentials()\n",
        "    alice = Aliceblue(user_id=user_id, api_key=api_key)\n",
        "    alice.get_session_id()\n",
        "    return alice\n",
        "\n",
        "def analyze_stock(alice, token):\n",
        "    instrument = alice.get_instrument_by_token('NSE', token)\n",
        "\n",
        "    from_datetime = datetime(2014, 7, 1)\n",
        "    to_datetime = datetime(2024, 7, 1)\n",
        "    interval = \"D\"\n",
        "\n",
        "    historical_data = alice.get_historical(instrument, from_datetime, to_datetime, interval)\n",
        "    df = pd.DataFrame(historical_data)\n",
        "\n",
        "    # Preprocess data\n",
        "    df['datetime'] = pd.to_datetime(df['datetime'], format='%Y-%m-%d %H:%M:%S')\n",
        "    df.set_index('datetime', inplace=True)\n",
        "    df['pct'] = df['close'].pct_change()\n",
        "    df.columns = df.columns.str.strip()\n",
        "    df = df.drop(columns=['open', 'high', 'low', 'close', 'volume']).dropna()\n",
        "\n",
        "    # Resample data to get monthly percentage change\n",
        "    monthly_pct_change = df['pct'].resample('M').sum()\n",
        "    df = monthly_pct_change.to_frame(name='pct')\n",
        "\n",
        "    # Extract year and month for analysis\n",
        "    df['year'] = df.index.year\n",
        "    df['month'] = df.index.month\n",
        "\n",
        "    # Calculate average monthly returns and standard deviation\n",
        "    monthly_avg = df.groupby('month')['pct'].mean()\n",
        "    monthly_std = df.groupby('month')['pct'].std()\n",
        "\n",
        "    # Combine into a single DataFrame\n",
        "    monthly_stats = pd.DataFrame({\n",
        "        'Average Return': monthly_avg,\n",
        "        'Standard Deviation': monthly_std\n",
        "    }).sort_values(by='Average Return', ascending=False)\n",
        "\n",
        "    return monthly_stats\n",
        "\n",
        "def analyze_july_categories(alice, token):\n",
        "    instrument = alice.get_instrument_by_token('NSE', token)\n",
        "\n",
        "    from_datetime = datetime(2014, 7, 1)\n",
        "    to_datetime = datetime(2024, 7, 1)\n",
        "    interval = \"D\"\n",
        "\n",
        "    historical_data = alice.get_historical(instrument, from_datetime, to_datetime, interval)\n",
        "    df = pd.DataFrame(historical_data)\n",
        "\n",
        "    # Preprocess data\n",
        "    df['datetime'] = pd.to_datetime(df['datetime'], format='%Y-%m-%d %H:%M:%S')\n",
        "    df.set_index('datetime', inplace=True)\n",
        "    df['pct'] = df['close'].pct_change()\n",
        "    df.columns = df.columns.str.strip()\n",
        "    df = df.drop(columns=['open', 'high', 'low', 'close', 'volume']).dropna()\n",
        "\n",
        "    # Filter for July data\n",
        "    july_data = df[df.index.month == 7]\n",
        "\n",
        "    # Create date categories\n",
        "    def categorize_date(date):\n",
        "        if 1 <= date.day <= 10:\n",
        "            return 'Category 1 (1-10)'\n",
        "        elif 11 <= date.day <= 20:\n",
        "            return 'Category 2 (11-20)'\n",
        "        else:\n",
        "            return 'Category 3 (21-31)'\n",
        "\n",
        "    july_data['category'] = july_data.index.to_series().apply(categorize_date)\n",
        "\n",
        "    # Calculate average percentage change for each category over the years\n",
        "    category_avg_pct_change = july_data.groupby(['category', july_data.index.year])['pct'].sum().groupby('category').mean()\n",
        "\n",
        "    return category_avg_pct_change\n",
        "\n",
        "def get_stock_name(alice, token):\n",
        "    instrument = alice.get_instrument_by_token('NSE', token)\n",
        "    return instrument.name\n",
        "\n",
        "def main():\n",
        "    # Initialize Aliceblue object and get credentials\n",
        "    alice = initialize_alice()\n",
        "\n",
        "    # List of tokens to analyze\n",
        "    tokens = [\n",
        "        11532, 4306, 467, 2885, 1394, 10999, 547, 1232, 1922, 526, 17818, 21808,\n",
        "        17963, 1660, 11536, 15083, 3456, 11483, 13538, 236, 20374, 10604, 25,\n",
        "        14977, 4963, 5258, 1594, 10940, 3351, 3787, 11630, 3432, 317, 7229,\n",
        "        3045, 1348, 16675, 881, 3506, 11723, 2475, 1333, 910, 5900, 694, 2031,\n",
        "        157, 1363, 16669, 3499\n",
        "    ]\n",
        "\n",
        "    top_tokens = []\n",
        "\n",
        "    for token in tokens:\n",
        "        monthly_stats = analyze_stock(alice, token)\n",
        "\n",
        "        # Get top three months\n",
        "        top_months = monthly_stats.head(3)\n",
        "\n",
        "        if 7 in top_months.index:  # Check if July (7) is one of the top 3 months\n",
        "            stock_name = get_stock_name(alice, token)\n",
        "            top_tokens.append((token, stock_name))\n",
        "\n",
        "    # Print tokens and stock names\n",
        "    print(\"\\nTokens and Stocks with July in Top 3 Months of Highest Average Return:\")\n",
        "    for token, stock_name in top_tokens:\n",
        "        print(f\"Token: {token}, Stock Name: {stock_name}\")\n",
        "\n",
        "    # Analyze July categories for top stocks\n",
        "    print(\"\\nJuly Category Analysis for Top Stocks:\")\n",
        "    for token, stock_name in top_tokens:\n",
        "        category_avg_pct_change = analyze_july_categories(alice, token)\n",
        "        print(f\"\\n{stock_name} (Token: {token}):\")\n",
        "        for category, avg_pct_change in category_avg_pct_change.items():\n",
        "            print(f\"{category} (Dates {category.split('(')[1].split(')')[0]}): {avg_pct_change:.2%}\")\n",
        "\n",
        "if __name__ == \"__main__\":\n",
        "    main()\n"
      ],
      "metadata": {
        "colab": {
          "base_uri": "https://localhost:8080/"
        },
        "id": "Xu0fbkdWYCwR",
        "outputId": "7c06f808-ca6b-475b-e287-05af16d23dd7"
      },
      "execution_count": 15,
      "outputs": [
        {
          "output_type": "stream",
          "name": "stdout",
          "text": [
            "Enter your user ID: 1141826\n",
            "Enter your API key: p45ZLNepIFnmQBWFVTqDU6qhmGsOppf0ZLOuOYyoafbyuMTDOd6pcK5kCn0KL5HclXfC7eG5CapFmbgt4F35PUZ9zk5ZC0F4e1GRlnmAT3O5v82VZJeD9PluY7Bfyqsb\n",
            "\n",
            "Tokens and Stocks with July in Top 3 Months of Highest Average Return:\n",
            "Token: 11532, Stock Name: ULTRACEMCO-EQ\n",
            "Token: 467, Stock Name: HDFCLIFE-EQ\n",
            "Token: 2885, Stock Name: RELIANCE-EQ\n",
            "Token: 1394, Stock Name: HINDUNILVR-EQ\n",
            "Token: 547, Stock Name: BRITANNIA-EQ\n",
            "Token: 21808, Stock Name: SBILIFE-EQ\n",
            "Token: 11536, Stock Name: TCS-EQ\n",
            "Token: 13538, Stock Name: TECHM-EQ\n",
            "Token: 236, Stock Name: ASIANPAINT-EQ\n",
            "Token: 4963, Stock Name: ICICIBANK-EQ\n",
            "Token: 5258, Stock Name: INDUSINDBK-EQ\n",
            "Token: 1594, Stock Name: INFY-EQ\n",
            "Token: 10940, Stock Name: DIVISLAB-EQ\n",
            "Token: 3351, Stock Name: SUNPHARMA-EQ\n",
            "Token: 3787, Stock Name: WIPRO-EQ\n",
            "Token: 3432, Stock Name: TATACONSUM-EQ\n",
            "Token: 317, Stock Name: BAJFINANCE-EQ\n",
            "Token: 7229, Stock Name: HCLTECH-EQ\n",
            "Token: 3045, Stock Name: SBIN-EQ\n",
            "Token: 16675, Stock Name: BAJAJFINSV-EQ\n",
            "Token: 11723, Stock Name: JSWSTEEL-EQ\n",
            "Token: 694, Stock Name: CIPLA-EQ\n",
            "Token: 1363, Stock Name: HINDALCO-EQ\n",
            "\n",
            "July Category Analysis for Top Stocks:\n"
          ]
        },
        {
          "output_type": "stream",
          "name": "stderr",
          "text": [
            "<ipython-input-15-6a3937d09b73>:83: SettingWithCopyWarning: \n",
            "A value is trying to be set on a copy of a slice from a DataFrame.\n",
            "Try using .loc[row_indexer,col_indexer] = value instead\n",
            "\n",
            "See the caveats in the documentation: https://pandas.pydata.org/pandas-docs/stable/user_guide/indexing.html#returning-a-view-versus-a-copy\n",
            "  july_data['category'] = july_data.index.to_series().apply(categorize_date)\n"
          ]
        },
        {
          "output_type": "stream",
          "name": "stdout",
          "text": [
            "\n",
            "ULTRACEMCO-EQ (Token: 11532):\n",
            "Category 1 (1-10) (Dates 1-10): 1.14%\n",
            "Category 2 (11-20) (Dates 11-20): 2.43%\n",
            "Category 3 (21-31) (Dates 21-31): 1.32%\n"
          ]
        },
        {
          "output_type": "stream",
          "name": "stderr",
          "text": [
            "<ipython-input-15-6a3937d09b73>:83: SettingWithCopyWarning: \n",
            "A value is trying to be set on a copy of a slice from a DataFrame.\n",
            "Try using .loc[row_indexer,col_indexer] = value instead\n",
            "\n",
            "See the caveats in the documentation: https://pandas.pydata.org/pandas-docs/stable/user_guide/indexing.html#returning-a-view-versus-a-copy\n",
            "  july_data['category'] = july_data.index.to_series().apply(categorize_date)\n"
          ]
        },
        {
          "output_type": "stream",
          "name": "stdout",
          "text": [
            "\n",
            "HDFCLIFE-EQ (Token: 467):\n",
            "Category 1 (1-10) (Dates 1-10): 1.82%\n",
            "Category 2 (11-20) (Dates 11-20): 1.06%\n",
            "Category 3 (21-31) (Dates 21-31): 1.62%\n"
          ]
        },
        {
          "output_type": "stream",
          "name": "stderr",
          "text": [
            "<ipython-input-15-6a3937d09b73>:83: SettingWithCopyWarning: \n",
            "A value is trying to be set on a copy of a slice from a DataFrame.\n",
            "Try using .loc[row_indexer,col_indexer] = value instead\n",
            "\n",
            "See the caveats in the documentation: https://pandas.pydata.org/pandas-docs/stable/user_guide/indexing.html#returning-a-view-versus-a-copy\n",
            "  july_data['category'] = july_data.index.to_series().apply(categorize_date)\n"
          ]
        },
        {
          "output_type": "stream",
          "name": "stdout",
          "text": [
            "\n",
            "RELIANCE-EQ (Token: 2885):\n",
            "Category 1 (1-10) (Dates 1-10): 2.06%\n",
            "Category 2 (11-20) (Dates 11-20): 1.87%\n",
            "Category 3 (21-31) (Dates 21-31): 0.67%\n"
          ]
        },
        {
          "output_type": "stream",
          "name": "stderr",
          "text": [
            "<ipython-input-15-6a3937d09b73>:83: SettingWithCopyWarning: \n",
            "A value is trying to be set on a copy of a slice from a DataFrame.\n",
            "Try using .loc[row_indexer,col_indexer] = value instead\n",
            "\n",
            "See the caveats in the documentation: https://pandas.pydata.org/pandas-docs/stable/user_guide/indexing.html#returning-a-view-versus-a-copy\n",
            "  july_data['category'] = july_data.index.to_series().apply(categorize_date)\n"
          ]
        },
        {
          "output_type": "stream",
          "name": "stdout",
          "text": [
            "\n",
            "HINDUNILVR-EQ (Token: 1394):\n",
            "Category 1 (1-10) (Dates 1-10): 1.35%\n",
            "Category 2 (11-20) (Dates 11-20): 1.23%\n",
            "Category 3 (21-31) (Dates 21-31): 0.45%\n"
          ]
        },
        {
          "output_type": "stream",
          "name": "stderr",
          "text": [
            "<ipython-input-15-6a3937d09b73>:83: SettingWithCopyWarning: \n",
            "A value is trying to be set on a copy of a slice from a DataFrame.\n",
            "Try using .loc[row_indexer,col_indexer] = value instead\n",
            "\n",
            "See the caveats in the documentation: https://pandas.pydata.org/pandas-docs/stable/user_guide/indexing.html#returning-a-view-versus-a-copy\n",
            "  july_data['category'] = july_data.index.to_series().apply(categorize_date)\n"
          ]
        },
        {
          "output_type": "stream",
          "name": "stdout",
          "text": [
            "\n",
            "BRITANNIA-EQ (Token: 547):\n",
            "Category 1 (1-10) (Dates 1-10): 1.41%\n",
            "Category 2 (11-20) (Dates 11-20): 0.91%\n",
            "Category 3 (21-31) (Dates 21-31): 2.16%\n"
          ]
        },
        {
          "output_type": "stream",
          "name": "stderr",
          "text": [
            "<ipython-input-15-6a3937d09b73>:83: SettingWithCopyWarning: \n",
            "A value is trying to be set on a copy of a slice from a DataFrame.\n",
            "Try using .loc[row_indexer,col_indexer] = value instead\n",
            "\n",
            "See the caveats in the documentation: https://pandas.pydata.org/pandas-docs/stable/user_guide/indexing.html#returning-a-view-versus-a-copy\n",
            "  july_data['category'] = july_data.index.to_series().apply(categorize_date)\n"
          ]
        },
        {
          "output_type": "stream",
          "name": "stdout",
          "text": [
            "\n",
            "SBILIFE-EQ (Token: 21808):\n",
            "Category 1 (1-10) (Dates 1-10): 1.99%\n",
            "Category 2 (11-20) (Dates 11-20): 0.03%\n",
            "Category 3 (21-31) (Dates 21-31): 6.14%\n"
          ]
        },
        {
          "output_type": "stream",
          "name": "stderr",
          "text": [
            "<ipython-input-15-6a3937d09b73>:83: SettingWithCopyWarning: \n",
            "A value is trying to be set on a copy of a slice from a DataFrame.\n",
            "Try using .loc[row_indexer,col_indexer] = value instead\n",
            "\n",
            "See the caveats in the documentation: https://pandas.pydata.org/pandas-docs/stable/user_guide/indexing.html#returning-a-view-versus-a-copy\n",
            "  july_data['category'] = july_data.index.to_series().apply(categorize_date)\n"
          ]
        },
        {
          "output_type": "stream",
          "name": "stdout",
          "text": [
            "\n",
            "TCS-EQ (Token: 11536):\n",
            "Category 1 (1-10) (Dates 1-10): -0.62%\n",
            "Category 2 (11-20) (Dates 11-20): 1.86%\n",
            "Category 3 (21-31) (Dates 21-31): 1.85%\n"
          ]
        },
        {
          "output_type": "stream",
          "name": "stderr",
          "text": [
            "<ipython-input-15-6a3937d09b73>:83: SettingWithCopyWarning: \n",
            "A value is trying to be set on a copy of a slice from a DataFrame.\n",
            "Try using .loc[row_indexer,col_indexer] = value instead\n",
            "\n",
            "See the caveats in the documentation: https://pandas.pydata.org/pandas-docs/stable/user_guide/indexing.html#returning-a-view-versus-a-copy\n",
            "  july_data['category'] = july_data.index.to_series().apply(categorize_date)\n"
          ]
        },
        {
          "output_type": "stream",
          "name": "stdout",
          "text": [
            "\n",
            "TECHM-EQ (Token: 13538):\n",
            "Category 1 (1-10) (Dates 1-10): -0.21%\n",
            "Category 2 (11-20) (Dates 11-20): 3.81%\n",
            "Category 3 (21-31) (Dates 21-31): 0.92%\n"
          ]
        },
        {
          "output_type": "stream",
          "name": "stderr",
          "text": [
            "<ipython-input-15-6a3937d09b73>:83: SettingWithCopyWarning: \n",
            "A value is trying to be set on a copy of a slice from a DataFrame.\n",
            "Try using .loc[row_indexer,col_indexer] = value instead\n",
            "\n",
            "See the caveats in the documentation: https://pandas.pydata.org/pandas-docs/stable/user_guide/indexing.html#returning-a-view-versus-a-copy\n",
            "  july_data['category'] = july_data.index.to_series().apply(categorize_date)\n"
          ]
        },
        {
          "output_type": "stream",
          "name": "stdout",
          "text": [
            "\n",
            "ASIANPAINT-EQ (Token: 236):\n",
            "Category 1 (1-10) (Dates 1-10): 2.07%\n",
            "Category 2 (11-20) (Dates 11-20): 3.33%\n",
            "Category 3 (21-31) (Dates 21-31): 3.31%\n"
          ]
        },
        {
          "output_type": "stream",
          "name": "stderr",
          "text": [
            "<ipython-input-15-6a3937d09b73>:83: SettingWithCopyWarning: \n",
            "A value is trying to be set on a copy of a slice from a DataFrame.\n",
            "Try using .loc[row_indexer,col_indexer] = value instead\n",
            "\n",
            "See the caveats in the documentation: https://pandas.pydata.org/pandas-docs/stable/user_guide/indexing.html#returning-a-view-versus-a-copy\n",
            "  july_data['category'] = july_data.index.to_series().apply(categorize_date)\n"
          ]
        },
        {
          "output_type": "stream",
          "name": "stdout",
          "text": [
            "\n",
            "ICICIBANK-EQ (Token: 4963):\n",
            "Category 1 (1-10) (Dates 1-10): 0.95%\n",
            "Category 2 (11-20) (Dates 11-20): 2.33%\n",
            "Category 3 (21-31) (Dates 21-31): 1.87%\n"
          ]
        },
        {
          "output_type": "stream",
          "name": "stderr",
          "text": [
            "<ipython-input-15-6a3937d09b73>:83: SettingWithCopyWarning: \n",
            "A value is trying to be set on a copy of a slice from a DataFrame.\n",
            "Try using .loc[row_indexer,col_indexer] = value instead\n",
            "\n",
            "See the caveats in the documentation: https://pandas.pydata.org/pandas-docs/stable/user_guide/indexing.html#returning-a-view-versus-a-copy\n",
            "  july_data['category'] = july_data.index.to_series().apply(categorize_date)\n"
          ]
        },
        {
          "output_type": "stream",
          "name": "stdout",
          "text": [
            "\n",
            "INDUSINDBK-EQ (Token: 5258):\n",
            "Category 1 (1-10) (Dates 1-10): 2.66%\n",
            "Category 2 (11-20) (Dates 11-20): 0.08%\n",
            "Category 3 (21-31) (Dates 21-31): 3.80%\n"
          ]
        },
        {
          "output_type": "stream",
          "name": "stderr",
          "text": [
            "<ipython-input-15-6a3937d09b73>:83: SettingWithCopyWarning: \n",
            "A value is trying to be set on a copy of a slice from a DataFrame.\n",
            "Try using .loc[row_indexer,col_indexer] = value instead\n",
            "\n",
            "See the caveats in the documentation: https://pandas.pydata.org/pandas-docs/stable/user_guide/indexing.html#returning-a-view-versus-a-copy\n",
            "  july_data['category'] = july_data.index.to_series().apply(categorize_date)\n"
          ]
        },
        {
          "output_type": "stream",
          "name": "stdout",
          "text": [
            "\n",
            "INFY-EQ (Token: 1594):\n",
            "Category 1 (1-10) (Dates 1-10): 0.56%\n",
            "Category 2 (11-20) (Dates 11-20): 4.03%\n",
            "Category 3 (21-31) (Dates 21-31): 2.07%\n"
          ]
        },
        {
          "output_type": "stream",
          "name": "stderr",
          "text": [
            "<ipython-input-15-6a3937d09b73>:83: SettingWithCopyWarning: \n",
            "A value is trying to be set on a copy of a slice from a DataFrame.\n",
            "Try using .loc[row_indexer,col_indexer] = value instead\n",
            "\n",
            "See the caveats in the documentation: https://pandas.pydata.org/pandas-docs/stable/user_guide/indexing.html#returning-a-view-versus-a-copy\n",
            "  july_data['category'] = july_data.index.to_series().apply(categorize_date)\n"
          ]
        },
        {
          "output_type": "stream",
          "name": "stdout",
          "text": [
            "\n",
            "DIVISLAB-EQ (Token: 10940):\n",
            "Category 1 (1-10) (Dates 1-10): 2.31%\n",
            "Category 2 (11-20) (Dates 11-20): 2.42%\n",
            "Category 3 (21-31) (Dates 21-31): 1.49%\n"
          ]
        },
        {
          "output_type": "stream",
          "name": "stderr",
          "text": [
            "<ipython-input-15-6a3937d09b73>:83: SettingWithCopyWarning: \n",
            "A value is trying to be set on a copy of a slice from a DataFrame.\n",
            "Try using .loc[row_indexer,col_indexer] = value instead\n",
            "\n",
            "See the caveats in the documentation: https://pandas.pydata.org/pandas-docs/stable/user_guide/indexing.html#returning-a-view-versus-a-copy\n",
            "  july_data['category'] = july_data.index.to_series().apply(categorize_date)\n"
          ]
        },
        {
          "output_type": "stream",
          "name": "stdout",
          "text": [
            "\n",
            "SUNPHARMA-EQ (Token: 3351):\n",
            "Category 1 (1-10) (Dates 1-10): 1.57%\n",
            "Category 2 (11-20) (Dates 11-20): 2.54%\n",
            "Category 3 (21-31) (Dates 21-31): 2.83%\n"
          ]
        },
        {
          "output_type": "stream",
          "name": "stderr",
          "text": [
            "<ipython-input-15-6a3937d09b73>:83: SettingWithCopyWarning: \n",
            "A value is trying to be set on a copy of a slice from a DataFrame.\n",
            "Try using .loc[row_indexer,col_indexer] = value instead\n",
            "\n",
            "See the caveats in the documentation: https://pandas.pydata.org/pandas-docs/stable/user_guide/indexing.html#returning-a-view-versus-a-copy\n",
            "  july_data['category'] = july_data.index.to_series().apply(categorize_date)\n"
          ]
        },
        {
          "output_type": "stream",
          "name": "stdout",
          "text": [
            "\n",
            "WIPRO-EQ (Token: 3787):\n",
            "Category 1 (1-10) (Dates 1-10): 0.52%\n",
            "Category 2 (11-20) (Dates 11-20): 3.88%\n",
            "Category 3 (21-31) (Dates 21-31): 1.33%\n"
          ]
        },
        {
          "output_type": "stream",
          "name": "stderr",
          "text": [
            "<ipython-input-15-6a3937d09b73>:83: SettingWithCopyWarning: \n",
            "A value is trying to be set on a copy of a slice from a DataFrame.\n",
            "Try using .loc[row_indexer,col_indexer] = value instead\n",
            "\n",
            "See the caveats in the documentation: https://pandas.pydata.org/pandas-docs/stable/user_guide/indexing.html#returning-a-view-versus-a-copy\n",
            "  july_data['category'] = july_data.index.to_series().apply(categorize_date)\n"
          ]
        },
        {
          "output_type": "stream",
          "name": "stdout",
          "text": [
            "\n",
            "TATACONSUM-EQ (Token: 3432):\n",
            "Category 1 (1-10) (Dates 1-10): 3.06%\n",
            "Category 2 (11-20) (Dates 11-20): 1.83%\n",
            "Category 3 (21-31) (Dates 21-31): 0.47%\n"
          ]
        },
        {
          "output_type": "stream",
          "name": "stderr",
          "text": [
            "<ipython-input-15-6a3937d09b73>:83: SettingWithCopyWarning: \n",
            "A value is trying to be set on a copy of a slice from a DataFrame.\n",
            "Try using .loc[row_indexer,col_indexer] = value instead\n",
            "\n",
            "See the caveats in the documentation: https://pandas.pydata.org/pandas-docs/stable/user_guide/indexing.html#returning-a-view-versus-a-copy\n",
            "  july_data['category'] = july_data.index.to_series().apply(categorize_date)\n"
          ]
        },
        {
          "output_type": "stream",
          "name": "stdout",
          "text": [
            "\n",
            "BAJFINANCE-EQ (Token: 317):\n",
            "Category 1 (1-10) (Dates 1-10): 3.49%\n",
            "Category 2 (11-20) (Dates 11-20): 3.64%\n",
            "Category 3 (21-31) (Dates 21-31): 4.31%\n"
          ]
        },
        {
          "output_type": "stream",
          "name": "stderr",
          "text": [
            "<ipython-input-15-6a3937d09b73>:83: SettingWithCopyWarning: \n",
            "A value is trying to be set on a copy of a slice from a DataFrame.\n",
            "Try using .loc[row_indexer,col_indexer] = value instead\n",
            "\n",
            "See the caveats in the documentation: https://pandas.pydata.org/pandas-docs/stable/user_guide/indexing.html#returning-a-view-versus-a-copy\n",
            "  july_data['category'] = july_data.index.to_series().apply(categorize_date)\n"
          ]
        },
        {
          "output_type": "stream",
          "name": "stdout",
          "text": [
            "\n",
            "HCLTECH-EQ (Token: 7229):\n",
            "Category 1 (1-10) (Dates 1-10): -0.04%\n",
            "Category 2 (11-20) (Dates 11-20): 1.89%\n",
            "Category 3 (21-31) (Dates 21-31): 2.51%\n"
          ]
        },
        {
          "output_type": "stream",
          "name": "stderr",
          "text": [
            "<ipython-input-15-6a3937d09b73>:83: SettingWithCopyWarning: \n",
            "A value is trying to be set on a copy of a slice from a DataFrame.\n",
            "Try using .loc[row_indexer,col_indexer] = value instead\n",
            "\n",
            "See the caveats in the documentation: https://pandas.pydata.org/pandas-docs/stable/user_guide/indexing.html#returning-a-view-versus-a-copy\n",
            "  july_data['category'] = july_data.index.to_series().apply(categorize_date)\n"
          ]
        },
        {
          "output_type": "stream",
          "name": "stdout",
          "text": [
            "\n",
            "SBIN-EQ (Token: 3045):\n",
            "Category 1 (1-10) (Dates 1-10): 1.79%\n",
            "Category 2 (11-20) (Dates 11-20): 1.14%\n",
            "Category 3 (21-31) (Dates 21-31): 1.68%\n"
          ]
        },
        {
          "output_type": "stream",
          "name": "stderr",
          "text": [
            "<ipython-input-15-6a3937d09b73>:83: SettingWithCopyWarning: \n",
            "A value is trying to be set on a copy of a slice from a DataFrame.\n",
            "Try using .loc[row_indexer,col_indexer] = value instead\n",
            "\n",
            "See the caveats in the documentation: https://pandas.pydata.org/pandas-docs/stable/user_guide/indexing.html#returning-a-view-versus-a-copy\n",
            "  july_data['category'] = july_data.index.to_series().apply(categorize_date)\n"
          ]
        },
        {
          "output_type": "stream",
          "name": "stdout",
          "text": [
            "\n",
            "BAJAJFINSV-EQ (Token: 16675):\n",
            "Category 1 (1-10) (Dates 1-10): 3.46%\n",
            "Category 2 (11-20) (Dates 11-20): 3.62%\n",
            "Category 3 (21-31) (Dates 21-31): 4.19%\n"
          ]
        },
        {
          "output_type": "stream",
          "name": "stderr",
          "text": [
            "<ipython-input-15-6a3937d09b73>:83: SettingWithCopyWarning: \n",
            "A value is trying to be set on a copy of a slice from a DataFrame.\n",
            "Try using .loc[row_indexer,col_indexer] = value instead\n",
            "\n",
            "See the caveats in the documentation: https://pandas.pydata.org/pandas-docs/stable/user_guide/indexing.html#returning-a-view-versus-a-copy\n",
            "  july_data['category'] = july_data.index.to_series().apply(categorize_date)\n"
          ]
        },
        {
          "output_type": "stream",
          "name": "stdout",
          "text": [
            "\n",
            "JSWSTEEL-EQ (Token: 11723):\n",
            "Category 1 (1-10) (Dates 1-10): -0.53%\n",
            "Category 2 (11-20) (Dates 11-20): 1.97%\n",
            "Category 3 (21-31) (Dates 21-31): 2.47%\n"
          ]
        },
        {
          "output_type": "stream",
          "name": "stderr",
          "text": [
            "<ipython-input-15-6a3937d09b73>:83: SettingWithCopyWarning: \n",
            "A value is trying to be set on a copy of a slice from a DataFrame.\n",
            "Try using .loc[row_indexer,col_indexer] = value instead\n",
            "\n",
            "See the caveats in the documentation: https://pandas.pydata.org/pandas-docs/stable/user_guide/indexing.html#returning-a-view-versus-a-copy\n",
            "  july_data['category'] = july_data.index.to_series().apply(categorize_date)\n"
          ]
        },
        {
          "output_type": "stream",
          "name": "stdout",
          "text": [
            "\n",
            "CIPLA-EQ (Token: 694):\n",
            "Category 1 (1-10) (Dates 1-10): 0.87%\n",
            "Category 2 (11-20) (Dates 11-20): 2.18%\n",
            "Category 3 (21-31) (Dates 21-31): 2.07%\n",
            "\n",
            "HINDALCO-EQ (Token: 1363):\n",
            "Category 1 (1-10) (Dates 1-10): 1.48%\n",
            "Category 2 (11-20) (Dates 11-20): 1.48%\n",
            "Category 3 (21-31) (Dates 21-31): 4.15%\n"
          ]
        },
        {
          "output_type": "stream",
          "name": "stderr",
          "text": [
            "<ipython-input-15-6a3937d09b73>:83: SettingWithCopyWarning: \n",
            "A value is trying to be set on a copy of a slice from a DataFrame.\n",
            "Try using .loc[row_indexer,col_indexer] = value instead\n",
            "\n",
            "See the caveats in the documentation: https://pandas.pydata.org/pandas-docs/stable/user_guide/indexing.html#returning-a-view-versus-a-copy\n",
            "  july_data['category'] = july_data.index.to_series().apply(categorize_date)\n"
          ]
        }
      ]
    },
    {
      "cell_type": "markdown",
      "source": [],
      "metadata": {
        "id": "tRjdcGfgOfTh"
      }
    },
    {
      "cell_type": "code",
      "source": [
        "import numpy as np\n",
        "import pandas as pd\n",
        "from pya3 import Aliceblue\n",
        "from datetime import datetime\n",
        "from fpdf import FPDF\n",
        "\n",
        "def get_user_credentials():\n",
        "    user_id = input(\"Enter your user ID: \")\n",
        "    api_key = input(\"Enter your API key: \")\n",
        "    return user_id, api_key\n",
        "\n",
        "def initialize_alice():\n",
        "    user_id, api_key = get_user_credentials()\n",
        "    alice = Aliceblue(user_id=user_id, api_key=api_key)\n",
        "    alice.get_session_id()\n",
        "    return alice\n",
        "\n",
        "def analyze_stock(alice, token):\n",
        "    instrument = alice.get_instrument_by_token('NSE', token)\n",
        "\n",
        "    from_datetime = datetime(2014, 7, 1)\n",
        "    to_datetime = datetime(2024, 7, 1)\n",
        "    interval = \"D\"\n",
        "\n",
        "    historical_data = alice.get_historical(instrument, from_datetime, to_datetime, interval)\n",
        "    df = pd.DataFrame(historical_data)\n",
        "\n",
        "    # Preprocess data\n",
        "    df['datetime'] = pd.to_datetime(df['datetime'], format='%Y-%m-%d %H:%M:%S')\n",
        "    df.set_index('datetime', inplace=True)\n",
        "    df['pct'] = df['close'].pct_change()\n",
        "    df.columns = df.columns.str.strip()\n",
        "    df = df.drop(columns=['open', 'high', 'low', 'close', 'volume']).dropna()\n",
        "\n",
        "    # Resample data to get monthly percentage change\n",
        "    monthly_pct_change = df['pct'].resample('M').sum()\n",
        "    df = monthly_pct_change.to_frame(name='pct')\n",
        "\n",
        "    # Extract year and month for analysis\n",
        "    df['year'] = df.index.year\n",
        "    df['month'] = df.index.month\n",
        "\n",
        "    # Calculate average monthly returns and standard deviation\n",
        "    monthly_avg = df.groupby('month')['pct'].mean()\n",
        "    monthly_std = df.groupby('month')['pct'].std()\n",
        "\n",
        "    # Combine into a single DataFrame\n",
        "    monthly_stats = pd.DataFrame({\n",
        "        'Average Return': monthly_avg,\n",
        "        'Standard Deviation': monthly_std\n",
        "    }).sort_values(by='Average Return', ascending=False)\n",
        "\n",
        "    return monthly_stats\n",
        "\n",
        "def analyze_july_categories(alice, token):\n",
        "    instrument = alice.get_instrument_by_token('NSE', token)\n",
        "\n",
        "    from_datetime = datetime(2014, 7, 1)\n",
        "    to_datetime = datetime(2024, 7, 1)\n",
        "    interval = \"D\"\n",
        "\n",
        "    historical_data = alice.get_historical(instrument, from_datetime, to_datetime, interval)\n",
        "    df = pd.DataFrame(historical_data)\n",
        "\n",
        "    # Preprocess data\n",
        "    df['datetime'] = pd.to_datetime(df['datetime'], format='%Y-%m-%d %H:%M:%S')\n",
        "    df.set_index('datetime', inplace=True)\n",
        "    df['pct'] = df['close'].pct_change()\n",
        "    df.columns = df.columns.str.strip()\n",
        "    df = df.drop(columns=['open', 'high', 'low', 'close', 'volume']).dropna()\n",
        "\n",
        "    # Filter for July data\n",
        "    july_data = df[df.index.month == 7]\n",
        "\n",
        "    # Create date categories\n",
        "    def categorize_date(date):\n",
        "        if 1 <= date.day <= 10:\n",
        "            return 'Category 1 (1-10)'\n",
        "        elif 11 <= date.day <= 20:\n",
        "            return 'Category 2 (11-20)'\n",
        "        else:\n",
        "            return 'Category 3 (21-31)'\n",
        "\n",
        "    july_data['category'] = july_data.index.to_series().apply(categorize_date)\n",
        "\n",
        "    # Calculate average percentage change for each category over the years\n",
        "    category_avg_pct_change = july_data.groupby(['category', july_data.index.year])['pct'].sum().groupby('category').mean()\n",
        "\n",
        "    return category_avg_pct_change\n",
        "\n",
        "def get_stock_name(alice, token):\n",
        "    instrument = alice.get_instrument_by_token('NSE', token)\n",
        "    return instrument.name\n",
        "\n",
        "def save_to_pdf(report, filename='July_Stock_Analysis.pdf'):\n",
        "    pdf = FPDF()\n",
        "    pdf.add_page()\n",
        "    pdf.set_font(\"Arial\", size=12)\n",
        "\n",
        "    for line in report:\n",
        "        pdf.cell(200, 10, txt=line, ln=True, align='L')\n",
        "\n",
        "    pdf.output(filename)\n",
        "\n",
        "def main():\n",
        "    # Initialize Aliceblue object and get credentials\n",
        "    alice = initialize_alice()\n",
        "\n",
        "    # List of tokens to analyze\n",
        "    tokens = [\n",
        "        11532, 4306, 467, 2885, 1394, 10999, 547, 1232, 1922, 526, 17818, 21808,\n",
        "        17963, 1660, 11536, 15083, 3456, 11483, 13538, 236, 20374, 10604, 25,\n",
        "        14977, 4963, 5258, 1594, 10940, 3351, 3787, 11630, 3432, 317, 7229,\n",
        "        3045, 1348, 16675, 881, 3506, 11723, 2475, 1333, 910, 5900, 694, 2031,\n",
        "        157, 1363, 16669, 3499\n",
        "    ]\n",
        "\n",
        "    top_tokens = []\n",
        "\n",
        "    for token in tokens:\n",
        "        monthly_stats = analyze_stock(alice, token)\n",
        "\n",
        "        # Get top three months\n",
        "        top_months = monthly_stats.head(3)\n",
        "\n",
        "        if 7 in top_months.index:  # Check if July (7) is one of the top 3 months\n",
        "            stock_name = get_stock_name(alice, token)\n",
        "            top_tokens.append((token, stock_name))\n",
        "\n",
        "    # Collect report data\n",
        "    report = []\n",
        "\n",
        "    report.append(\"Tokens and Stocks with July in Top 3 Months of Highest Average Return:\")\n",
        "    for token, stock_name in top_tokens:\n",
        "        report.append(f\"Token: {token}, Stock Name: {stock_name}\")\n",
        "\n",
        "    report.append(\"\\nJuly Category Analysis for Top Stocks:\")\n",
        "    for token, stock_name in top_tokens:\n",
        "        category_avg_pct_change = analyze_july_categories(alice, token)\n",
        "        report.append(f\"\\n{stock_name} (Token: {token}):\")\n",
        "        for category, avg_pct_change in category_avg_pct_change.items():\n",
        "            report.append(f\"{category} (Dates {category.split('(')[1].split(')')[0]}): {avg_pct_change:.2%}\")\n",
        "\n",
        "    # Save the report to PDF\n",
        "    save_to_pdf(report)\n",
        "\n",
        "if __name__ == \"__main__\":\n",
        "    main()\n"
      ],
      "metadata": {
        "colab": {
          "base_uri": "https://localhost:8080/"
        },
        "id": "ZFGEjYxkaM2n",
        "outputId": "36b929dd-31f4-4565-9236-747a9b735d49"
      },
      "execution_count": 17,
      "outputs": [
        {
          "name": "stdout",
          "output_type": "stream",
          "text": [
            "Enter your user ID: 1141826\n",
            "Enter your API key: p45ZLNepIFnmQBWFVTqDU6qhmGsOppf0ZLOuOYyoafbyuMTDOd6pcK5kCn0KL5HclXfC7eG5CapFmbgt4F35PUZ9zk5ZC0F4e1GRlnmAT3O5v82VZJeD9PluY7Bfyqsb\n"
          ]
        },
        {
          "output_type": "stream",
          "name": "stderr",
          "text": [
            "<ipython-input-17-e71320cf3267>:84: SettingWithCopyWarning: \n",
            "A value is trying to be set on a copy of a slice from a DataFrame.\n",
            "Try using .loc[row_indexer,col_indexer] = value instead\n",
            "\n",
            "See the caveats in the documentation: https://pandas.pydata.org/pandas-docs/stable/user_guide/indexing.html#returning-a-view-versus-a-copy\n",
            "  july_data['category'] = july_data.index.to_series().apply(categorize_date)\n",
            "<ipython-input-17-e71320cf3267>:84: SettingWithCopyWarning: \n",
            "A value is trying to be set on a copy of a slice from a DataFrame.\n",
            "Try using .loc[row_indexer,col_indexer] = value instead\n",
            "\n",
            "See the caveats in the documentation: https://pandas.pydata.org/pandas-docs/stable/user_guide/indexing.html#returning-a-view-versus-a-copy\n",
            "  july_data['category'] = july_data.index.to_series().apply(categorize_date)\n",
            "<ipython-input-17-e71320cf3267>:84: SettingWithCopyWarning: \n",
            "A value is trying to be set on a copy of a slice from a DataFrame.\n",
            "Try using .loc[row_indexer,col_indexer] = value instead\n",
            "\n",
            "See the caveats in the documentation: https://pandas.pydata.org/pandas-docs/stable/user_guide/indexing.html#returning-a-view-versus-a-copy\n",
            "  july_data['category'] = july_data.index.to_series().apply(categorize_date)\n",
            "<ipython-input-17-e71320cf3267>:84: SettingWithCopyWarning: \n",
            "A value is trying to be set on a copy of a slice from a DataFrame.\n",
            "Try using .loc[row_indexer,col_indexer] = value instead\n",
            "\n",
            "See the caveats in the documentation: https://pandas.pydata.org/pandas-docs/stable/user_guide/indexing.html#returning-a-view-versus-a-copy\n",
            "  july_data['category'] = july_data.index.to_series().apply(categorize_date)\n",
            "<ipython-input-17-e71320cf3267>:84: SettingWithCopyWarning: \n",
            "A value is trying to be set on a copy of a slice from a DataFrame.\n",
            "Try using .loc[row_indexer,col_indexer] = value instead\n",
            "\n",
            "See the caveats in the documentation: https://pandas.pydata.org/pandas-docs/stable/user_guide/indexing.html#returning-a-view-versus-a-copy\n",
            "  july_data['category'] = july_data.index.to_series().apply(categorize_date)\n",
            "<ipython-input-17-e71320cf3267>:84: SettingWithCopyWarning: \n",
            "A value is trying to be set on a copy of a slice from a DataFrame.\n",
            "Try using .loc[row_indexer,col_indexer] = value instead\n",
            "\n",
            "See the caveats in the documentation: https://pandas.pydata.org/pandas-docs/stable/user_guide/indexing.html#returning-a-view-versus-a-copy\n",
            "  july_data['category'] = july_data.index.to_series().apply(categorize_date)\n",
            "<ipython-input-17-e71320cf3267>:84: SettingWithCopyWarning: \n",
            "A value is trying to be set on a copy of a slice from a DataFrame.\n",
            "Try using .loc[row_indexer,col_indexer] = value instead\n",
            "\n",
            "See the caveats in the documentation: https://pandas.pydata.org/pandas-docs/stable/user_guide/indexing.html#returning-a-view-versus-a-copy\n",
            "  july_data['category'] = july_data.index.to_series().apply(categorize_date)\n",
            "<ipython-input-17-e71320cf3267>:84: SettingWithCopyWarning: \n",
            "A value is trying to be set on a copy of a slice from a DataFrame.\n",
            "Try using .loc[row_indexer,col_indexer] = value instead\n",
            "\n",
            "See the caveats in the documentation: https://pandas.pydata.org/pandas-docs/stable/user_guide/indexing.html#returning-a-view-versus-a-copy\n",
            "  july_data['category'] = july_data.index.to_series().apply(categorize_date)\n",
            "<ipython-input-17-e71320cf3267>:84: SettingWithCopyWarning: \n",
            "A value is trying to be set on a copy of a slice from a DataFrame.\n",
            "Try using .loc[row_indexer,col_indexer] = value instead\n",
            "\n",
            "See the caveats in the documentation: https://pandas.pydata.org/pandas-docs/stable/user_guide/indexing.html#returning-a-view-versus-a-copy\n",
            "  july_data['category'] = july_data.index.to_series().apply(categorize_date)\n",
            "<ipython-input-17-e71320cf3267>:84: SettingWithCopyWarning: \n",
            "A value is trying to be set on a copy of a slice from a DataFrame.\n",
            "Try using .loc[row_indexer,col_indexer] = value instead\n",
            "\n",
            "See the caveats in the documentation: https://pandas.pydata.org/pandas-docs/stable/user_guide/indexing.html#returning-a-view-versus-a-copy\n",
            "  july_data['category'] = july_data.index.to_series().apply(categorize_date)\n",
            "<ipython-input-17-e71320cf3267>:84: SettingWithCopyWarning: \n",
            "A value is trying to be set on a copy of a slice from a DataFrame.\n",
            "Try using .loc[row_indexer,col_indexer] = value instead\n",
            "\n",
            "See the caveats in the documentation: https://pandas.pydata.org/pandas-docs/stable/user_guide/indexing.html#returning-a-view-versus-a-copy\n",
            "  july_data['category'] = july_data.index.to_series().apply(categorize_date)\n",
            "<ipython-input-17-e71320cf3267>:84: SettingWithCopyWarning: \n",
            "A value is trying to be set on a copy of a slice from a DataFrame.\n",
            "Try using .loc[row_indexer,col_indexer] = value instead\n",
            "\n",
            "See the caveats in the documentation: https://pandas.pydata.org/pandas-docs/stable/user_guide/indexing.html#returning-a-view-versus-a-copy\n",
            "  july_data['category'] = july_data.index.to_series().apply(categorize_date)\n",
            "<ipython-input-17-e71320cf3267>:84: SettingWithCopyWarning: \n",
            "A value is trying to be set on a copy of a slice from a DataFrame.\n",
            "Try using .loc[row_indexer,col_indexer] = value instead\n",
            "\n",
            "See the caveats in the documentation: https://pandas.pydata.org/pandas-docs/stable/user_guide/indexing.html#returning-a-view-versus-a-copy\n",
            "  july_data['category'] = july_data.index.to_series().apply(categorize_date)\n",
            "<ipython-input-17-e71320cf3267>:84: SettingWithCopyWarning: \n",
            "A value is trying to be set on a copy of a slice from a DataFrame.\n",
            "Try using .loc[row_indexer,col_indexer] = value instead\n",
            "\n",
            "See the caveats in the documentation: https://pandas.pydata.org/pandas-docs/stable/user_guide/indexing.html#returning-a-view-versus-a-copy\n",
            "  july_data['category'] = july_data.index.to_series().apply(categorize_date)\n",
            "<ipython-input-17-e71320cf3267>:84: SettingWithCopyWarning: \n",
            "A value is trying to be set on a copy of a slice from a DataFrame.\n",
            "Try using .loc[row_indexer,col_indexer] = value instead\n",
            "\n",
            "See the caveats in the documentation: https://pandas.pydata.org/pandas-docs/stable/user_guide/indexing.html#returning-a-view-versus-a-copy\n",
            "  july_data['category'] = july_data.index.to_series().apply(categorize_date)\n",
            "<ipython-input-17-e71320cf3267>:84: SettingWithCopyWarning: \n",
            "A value is trying to be set on a copy of a slice from a DataFrame.\n",
            "Try using .loc[row_indexer,col_indexer] = value instead\n",
            "\n",
            "See the caveats in the documentation: https://pandas.pydata.org/pandas-docs/stable/user_guide/indexing.html#returning-a-view-versus-a-copy\n",
            "  july_data['category'] = july_data.index.to_series().apply(categorize_date)\n",
            "<ipython-input-17-e71320cf3267>:84: SettingWithCopyWarning: \n",
            "A value is trying to be set on a copy of a slice from a DataFrame.\n",
            "Try using .loc[row_indexer,col_indexer] = value instead\n",
            "\n",
            "See the caveats in the documentation: https://pandas.pydata.org/pandas-docs/stable/user_guide/indexing.html#returning-a-view-versus-a-copy\n",
            "  july_data['category'] = july_data.index.to_series().apply(categorize_date)\n",
            "<ipython-input-17-e71320cf3267>:84: SettingWithCopyWarning: \n",
            "A value is trying to be set on a copy of a slice from a DataFrame.\n",
            "Try using .loc[row_indexer,col_indexer] = value instead\n",
            "\n",
            "See the caveats in the documentation: https://pandas.pydata.org/pandas-docs/stable/user_guide/indexing.html#returning-a-view-versus-a-copy\n",
            "  july_data['category'] = july_data.index.to_series().apply(categorize_date)\n",
            "<ipython-input-17-e71320cf3267>:84: SettingWithCopyWarning: \n",
            "A value is trying to be set on a copy of a slice from a DataFrame.\n",
            "Try using .loc[row_indexer,col_indexer] = value instead\n",
            "\n",
            "See the caveats in the documentation: https://pandas.pydata.org/pandas-docs/stable/user_guide/indexing.html#returning-a-view-versus-a-copy\n",
            "  july_data['category'] = july_data.index.to_series().apply(categorize_date)\n",
            "<ipython-input-17-e71320cf3267>:84: SettingWithCopyWarning: \n",
            "A value is trying to be set on a copy of a slice from a DataFrame.\n",
            "Try using .loc[row_indexer,col_indexer] = value instead\n",
            "\n",
            "See the caveats in the documentation: https://pandas.pydata.org/pandas-docs/stable/user_guide/indexing.html#returning-a-view-versus-a-copy\n",
            "  july_data['category'] = july_data.index.to_series().apply(categorize_date)\n",
            "<ipython-input-17-e71320cf3267>:84: SettingWithCopyWarning: \n",
            "A value is trying to be set on a copy of a slice from a DataFrame.\n",
            "Try using .loc[row_indexer,col_indexer] = value instead\n",
            "\n",
            "See the caveats in the documentation: https://pandas.pydata.org/pandas-docs/stable/user_guide/indexing.html#returning-a-view-versus-a-copy\n",
            "  july_data['category'] = july_data.index.to_series().apply(categorize_date)\n",
            "<ipython-input-17-e71320cf3267>:84: SettingWithCopyWarning: \n",
            "A value is trying to be set on a copy of a slice from a DataFrame.\n",
            "Try using .loc[row_indexer,col_indexer] = value instead\n",
            "\n",
            "See the caveats in the documentation: https://pandas.pydata.org/pandas-docs/stable/user_guide/indexing.html#returning-a-view-versus-a-copy\n",
            "  july_data['category'] = july_data.index.to_series().apply(categorize_date)\n",
            "<ipython-input-17-e71320cf3267>:84: SettingWithCopyWarning: \n",
            "A value is trying to be set on a copy of a slice from a DataFrame.\n",
            "Try using .loc[row_indexer,col_indexer] = value instead\n",
            "\n",
            "See the caveats in the documentation: https://pandas.pydata.org/pandas-docs/stable/user_guide/indexing.html#returning-a-view-versus-a-copy\n",
            "  july_data['category'] = july_data.index.to_series().apply(categorize_date)\n"
          ]
        }
      ]
    }
  ]
}